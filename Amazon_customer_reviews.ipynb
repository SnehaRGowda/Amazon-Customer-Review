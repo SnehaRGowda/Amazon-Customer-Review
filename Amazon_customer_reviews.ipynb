{
  "nbformat": 4,
  "nbformat_minor": 0,
  "metadata": {
    "colab": {
      "name": "Amazon_customer_reviews.ipynb",
      "provenance": [],
      "collapsed_sections": [
        "tbrIBoxE99Tb",
        "rjitGCdpD1R-",
        "xatA0wk49eKH"
      ],
      "toc_visible": true,
      "authorship_tag": "ABX9TyORLCmCrsxgjhDK4CvyuXKc",
      "include_colab_link": true
    },
    "kernelspec": {
      "name": "python3",
      "display_name": "Python 3"
    }
  },
  "cells": [
    {
      "cell_type": "markdown",
      "metadata": {
        "id": "view-in-github",
        "colab_type": "text"
      },
      "source": [
        "<a href=\"https://colab.research.google.com/github/SnehaRGowda/Amazon-Customer-Review/blob/master/Amazon_customer_reviews.ipynb\" target=\"_parent\"><img src=\"https://colab.research.google.com/assets/colab-badge.svg\" alt=\"Open In Colab\"/></a>"
      ]
    },
    {
      "cell_type": "markdown",
      "metadata": {
        "id": "6kGx4NcYijGd",
        "colab_type": "text"
      },
      "source": [
        "# **Customer reviews of amazon products**"
      ]
    },
    {
      "cell_type": "markdown",
      "metadata": {
        "id": "XzpEUy7GD5WF",
        "colab_type": "text"
      },
      "source": [
        "**Import required** **libraries**"
      ]
    },
    {
      "cell_type": "code",
      "metadata": {
        "id": "grLNYqeorC2C",
        "colab_type": "code",
        "outputId": "3fc483ed-17d8-4907-b11e-f40e4b182207",
        "colab": {
          "base_uri": "https://localhost:8080/",
          "height": 87
        }
      },
      "source": [
        "import pandas as pd\n",
        "import numpy as np\n",
        "from sklearn.feature_extraction.text import TfidfVectorizer\n",
        "from sklearn.decomposition import TruncatedSVD\n",
        "import tensorflow as tf\n",
        "from tensorflow import keras\n",
        "from sklearn.preprocessing import LabelEncoder\n",
        "from sklearn.model_selection import train_test_split\n",
        "import matplotlib.pyplot as plt\n",
        "from keras.preprocessing.sequence import pad_sequences\n",
        "from keras.preprocessing.text import Tokenizer\n",
        "from keras.models import Sequential\n",
        "from keras.layers import Dense, Embedding, GRU, Dropout, LSTM\n",
        "from keras.callbacks import EarlyStopping\n",
        "from keras.optimizers import Adam\n",
        "from keras.utils import np_utils\n",
        "import seaborn as sns"
      ],
      "execution_count": 1,
      "outputs": [
        {
          "output_type": "stream",
          "text": [
            "Using TensorFlow backend.\n",
            "/usr/local/lib/python3.6/dist-packages/statsmodels/tools/_testing.py:19: FutureWarning: pandas.util.testing is deprecated. Use the functions in the public API at pandas.testing instead.\n",
            "  import pandas.util.testing as tm\n"
          ],
          "name": "stderr"
        }
      ]
    },
    {
      "cell_type": "markdown",
      "metadata": {
        "id": "Cy-gnl9zEBMY",
        "colab_type": "text"
      },
      "source": [
        "**Dataset**"
      ]
    },
    {
      "cell_type": "code",
      "metadata": {
        "id": "1zfIurGQryO9",
        "colab_type": "code",
        "outputId": "db3b66a4-5e1c-44a6-dea2-0f8ec3570be0",
        "colab": {
          "base_uri": "https://localhost:8080/",
          "height": 70
        }
      },
      "source": [
        "data = pd.read_csv(\"/content/1429_1.csv\")"
      ],
      "execution_count": 2,
      "outputs": [
        {
          "output_type": "stream",
          "text": [
            "/usr/local/lib/python3.6/dist-packages/IPython/core/interactiveshell.py:2718: DtypeWarning: Columns (1,10) have mixed types.Specify dtype option on import or set low_memory=False.\n",
            "  interactivity=interactivity, compiler=compiler, result=result)\n"
          ],
          "name": "stderr"
        }
      ]
    },
    {
      "cell_type": "code",
      "metadata": {
        "id": "vlmtwA-asCdZ",
        "colab_type": "code",
        "outputId": "3bc5a7a6-f757-4ce5-da36-388a13e1270f",
        "colab": {
          "base_uri": "https://localhost:8080/",
          "height": 1000
        }
      },
      "source": [
        "data"
      ],
      "execution_count": 3,
      "outputs": [
        {
          "output_type": "execute_result",
          "data": {
            "text/html": [
              "<div>\n",
              "<style scoped>\n",
              "    .dataframe tbody tr th:only-of-type {\n",
              "        vertical-align: middle;\n",
              "    }\n",
              "\n",
              "    .dataframe tbody tr th {\n",
              "        vertical-align: top;\n",
              "    }\n",
              "\n",
              "    .dataframe thead th {\n",
              "        text-align: right;\n",
              "    }\n",
              "</style>\n",
              "<table border=\"1\" class=\"dataframe\">\n",
              "  <thead>\n",
              "    <tr style=\"text-align: right;\">\n",
              "      <th></th>\n",
              "      <th>id</th>\n",
              "      <th>name</th>\n",
              "      <th>asins</th>\n",
              "      <th>brand</th>\n",
              "      <th>categories</th>\n",
              "      <th>keys</th>\n",
              "      <th>manufacturer</th>\n",
              "      <th>reviews.date</th>\n",
              "      <th>reviews.dateAdded</th>\n",
              "      <th>reviews.dateSeen</th>\n",
              "      <th>reviews.didPurchase</th>\n",
              "      <th>reviews.doRecommend</th>\n",
              "      <th>reviews.id</th>\n",
              "      <th>reviews.numHelpful</th>\n",
              "      <th>reviews.rating</th>\n",
              "      <th>reviews.sourceURLs</th>\n",
              "      <th>reviews.text</th>\n",
              "      <th>reviews.title</th>\n",
              "      <th>reviews.userCity</th>\n",
              "      <th>reviews.userProvince</th>\n",
              "      <th>reviews.username</th>\n",
              "    </tr>\n",
              "  </thead>\n",
              "  <tbody>\n",
              "    <tr>\n",
              "      <th>0</th>\n",
              "      <td>AVqkIhwDv8e3D1O-lebb</td>\n",
              "      <td>All-New Fire HD 8 Tablet, 8 HD Display, Wi-Fi,...</td>\n",
              "      <td>B01AHB9CN2</td>\n",
              "      <td>Amazon</td>\n",
              "      <td>Electronics,iPad &amp; Tablets,All Tablets,Fire Ta...</td>\n",
              "      <td>841667104676,amazon/53004484,amazon/b01ahb9cn2...</td>\n",
              "      <td>Amazon</td>\n",
              "      <td>2017-01-13T00:00:00.000Z</td>\n",
              "      <td>2017-07-03T23:33:15Z</td>\n",
              "      <td>2017-06-07T09:04:00.000Z,2017-04-30T00:45:00.000Z</td>\n",
              "      <td>NaN</td>\n",
              "      <td>True</td>\n",
              "      <td>NaN</td>\n",
              "      <td>0.0</td>\n",
              "      <td>5.0</td>\n",
              "      <td>http://reviews.bestbuy.com/3545/5620406/review...</td>\n",
              "      <td>This product so far has not disappointed. My c...</td>\n",
              "      <td>Kindle</td>\n",
              "      <td>NaN</td>\n",
              "      <td>NaN</td>\n",
              "      <td>Adapter</td>\n",
              "    </tr>\n",
              "    <tr>\n",
              "      <th>1</th>\n",
              "      <td>AVqkIhwDv8e3D1O-lebb</td>\n",
              "      <td>All-New Fire HD 8 Tablet, 8 HD Display, Wi-Fi,...</td>\n",
              "      <td>B01AHB9CN2</td>\n",
              "      <td>Amazon</td>\n",
              "      <td>Electronics,iPad &amp; Tablets,All Tablets,Fire Ta...</td>\n",
              "      <td>841667104676,amazon/53004484,amazon/b01ahb9cn2...</td>\n",
              "      <td>Amazon</td>\n",
              "      <td>2017-01-13T00:00:00.000Z</td>\n",
              "      <td>2017-07-03T23:33:15Z</td>\n",
              "      <td>2017-06-07T09:04:00.000Z,2017-04-30T00:45:00.000Z</td>\n",
              "      <td>NaN</td>\n",
              "      <td>True</td>\n",
              "      <td>NaN</td>\n",
              "      <td>0.0</td>\n",
              "      <td>5.0</td>\n",
              "      <td>http://reviews.bestbuy.com/3545/5620406/review...</td>\n",
              "      <td>great for beginner or experienced person. Boug...</td>\n",
              "      <td>very fast</td>\n",
              "      <td>NaN</td>\n",
              "      <td>NaN</td>\n",
              "      <td>truman</td>\n",
              "    </tr>\n",
              "    <tr>\n",
              "      <th>2</th>\n",
              "      <td>AVqkIhwDv8e3D1O-lebb</td>\n",
              "      <td>All-New Fire HD 8 Tablet, 8 HD Display, Wi-Fi,...</td>\n",
              "      <td>B01AHB9CN2</td>\n",
              "      <td>Amazon</td>\n",
              "      <td>Electronics,iPad &amp; Tablets,All Tablets,Fire Ta...</td>\n",
              "      <td>841667104676,amazon/53004484,amazon/b01ahb9cn2...</td>\n",
              "      <td>Amazon</td>\n",
              "      <td>2017-01-13T00:00:00.000Z</td>\n",
              "      <td>2017-07-03T23:33:15Z</td>\n",
              "      <td>2017-06-07T09:04:00.000Z,2017-04-30T00:45:00.000Z</td>\n",
              "      <td>NaN</td>\n",
              "      <td>True</td>\n",
              "      <td>NaN</td>\n",
              "      <td>0.0</td>\n",
              "      <td>5.0</td>\n",
              "      <td>http://reviews.bestbuy.com/3545/5620406/review...</td>\n",
              "      <td>Inexpensive tablet for him to use and learn on...</td>\n",
              "      <td>Beginner tablet for our 9 year old son.</td>\n",
              "      <td>NaN</td>\n",
              "      <td>NaN</td>\n",
              "      <td>DaveZ</td>\n",
              "    </tr>\n",
              "    <tr>\n",
              "      <th>3</th>\n",
              "      <td>AVqkIhwDv8e3D1O-lebb</td>\n",
              "      <td>All-New Fire HD 8 Tablet, 8 HD Display, Wi-Fi,...</td>\n",
              "      <td>B01AHB9CN2</td>\n",
              "      <td>Amazon</td>\n",
              "      <td>Electronics,iPad &amp; Tablets,All Tablets,Fire Ta...</td>\n",
              "      <td>841667104676,amazon/53004484,amazon/b01ahb9cn2...</td>\n",
              "      <td>Amazon</td>\n",
              "      <td>2017-01-13T00:00:00.000Z</td>\n",
              "      <td>2017-07-03T23:33:15Z</td>\n",
              "      <td>2017-06-07T09:04:00.000Z,2017-04-30T00:45:00.000Z</td>\n",
              "      <td>NaN</td>\n",
              "      <td>True</td>\n",
              "      <td>NaN</td>\n",
              "      <td>0.0</td>\n",
              "      <td>4.0</td>\n",
              "      <td>http://reviews.bestbuy.com/3545/5620406/review...</td>\n",
              "      <td>I've had my Fire HD 8 two weeks now and I love...</td>\n",
              "      <td>Good!!!</td>\n",
              "      <td>NaN</td>\n",
              "      <td>NaN</td>\n",
              "      <td>Shacks</td>\n",
              "    </tr>\n",
              "    <tr>\n",
              "      <th>4</th>\n",
              "      <td>AVqkIhwDv8e3D1O-lebb</td>\n",
              "      <td>All-New Fire HD 8 Tablet, 8 HD Display, Wi-Fi,...</td>\n",
              "      <td>B01AHB9CN2</td>\n",
              "      <td>Amazon</td>\n",
              "      <td>Electronics,iPad &amp; Tablets,All Tablets,Fire Ta...</td>\n",
              "      <td>841667104676,amazon/53004484,amazon/b01ahb9cn2...</td>\n",
              "      <td>Amazon</td>\n",
              "      <td>2017-01-12T00:00:00.000Z</td>\n",
              "      <td>2017-07-03T23:33:15Z</td>\n",
              "      <td>2017-06-07T09:04:00.000Z,2017-04-30T00:45:00.000Z</td>\n",
              "      <td>NaN</td>\n",
              "      <td>True</td>\n",
              "      <td>NaN</td>\n",
              "      <td>0.0</td>\n",
              "      <td>5.0</td>\n",
              "      <td>http://reviews.bestbuy.com/3545/5620406/review...</td>\n",
              "      <td>I bought this for my grand daughter when she c...</td>\n",
              "      <td>Fantastic Tablet for kids</td>\n",
              "      <td>NaN</td>\n",
              "      <td>NaN</td>\n",
              "      <td>explore42</td>\n",
              "    </tr>\n",
              "    <tr>\n",
              "      <th>...</th>\n",
              "      <td>...</td>\n",
              "      <td>...</td>\n",
              "      <td>...</td>\n",
              "      <td>...</td>\n",
              "      <td>...</td>\n",
              "      <td>...</td>\n",
              "      <td>...</td>\n",
              "      <td>...</td>\n",
              "      <td>...</td>\n",
              "      <td>...</td>\n",
              "      <td>...</td>\n",
              "      <td>...</td>\n",
              "      <td>...</td>\n",
              "      <td>...</td>\n",
              "      <td>...</td>\n",
              "      <td>...</td>\n",
              "      <td>...</td>\n",
              "      <td>...</td>\n",
              "      <td>...</td>\n",
              "      <td>...</td>\n",
              "      <td>...</td>\n",
              "    </tr>\n",
              "    <tr>\n",
              "      <th>34655</th>\n",
              "      <td>AVpfiBlyLJeJML43-4Tp</td>\n",
              "      <td>NaN</td>\n",
              "      <td>B006GWO5WK</td>\n",
              "      <td>Amazon</td>\n",
              "      <td>Computers/Tablets &amp; Networking,Tablet &amp; eBook ...</td>\n",
              "      <td>newamazonkindlefirehd9wpowerfastadaptercharger...</td>\n",
              "      <td>Amazon Digital Services, Inc</td>\n",
              "      <td>2012-09-18T00:00:00Z</td>\n",
              "      <td>NaN</td>\n",
              "      <td>2015-08-29T00:00:00Z</td>\n",
              "      <td>NaN</td>\n",
              "      <td>NaN</td>\n",
              "      <td>NaN</td>\n",
              "      <td>NaN</td>\n",
              "      <td>3.0</td>\n",
              "      <td>http://www.amazon.com/Amazon-PowerFast-Adapter...</td>\n",
              "      <td>This is not appreciably faster than any other ...</td>\n",
              "      <td>Not appreciably faster than any other 1.8A cha...</td>\n",
              "      <td>NaN</td>\n",
              "      <td>NaN</td>\n",
              "      <td>Kris</td>\n",
              "    </tr>\n",
              "    <tr>\n",
              "      <th>34656</th>\n",
              "      <td>AVpfiBlyLJeJML43-4Tp</td>\n",
              "      <td>NaN</td>\n",
              "      <td>B006GWO5WK</td>\n",
              "      <td>Amazon</td>\n",
              "      <td>Computers/Tablets &amp; Networking,Tablet &amp; eBook ...</td>\n",
              "      <td>newamazonkindlefirehd9wpowerfastadaptercharger...</td>\n",
              "      <td>Amazon Digital Services, Inc</td>\n",
              "      <td>2012-11-21T00:00:00Z</td>\n",
              "      <td>NaN</td>\n",
              "      <td>2015-09-02T00:00:00Z</td>\n",
              "      <td>NaN</td>\n",
              "      <td>NaN</td>\n",
              "      <td>NaN</td>\n",
              "      <td>NaN</td>\n",
              "      <td>1.0</td>\n",
              "      <td>http://www.amazon.com/Amazon-PowerFast-Adapter...</td>\n",
              "      <td>Amazon should include this charger with the Ki...</td>\n",
              "      <td>Should be included</td>\n",
              "      <td>NaN</td>\n",
              "      <td>NaN</td>\n",
              "      <td>Jonathan Stewart</td>\n",
              "    </tr>\n",
              "    <tr>\n",
              "      <th>34657</th>\n",
              "      <td>AVpfiBlyLJeJML43-4Tp</td>\n",
              "      <td>NaN</td>\n",
              "      <td>B006GWO5WK</td>\n",
              "      <td>Amazon</td>\n",
              "      <td>Computers/Tablets &amp; Networking,Tablet &amp; eBook ...</td>\n",
              "      <td>newamazonkindlefirehd9wpowerfastadaptercharger...</td>\n",
              "      <td>Amazon Digital Services, Inc</td>\n",
              "      <td>2012-10-19T00:00:00Z</td>\n",
              "      <td>NaN</td>\n",
              "      <td>2015-09-04T00:00:00Z</td>\n",
              "      <td>NaN</td>\n",
              "      <td>NaN</td>\n",
              "      <td>NaN</td>\n",
              "      <td>NaN</td>\n",
              "      <td>1.0</td>\n",
              "      <td>http://www.amazon.com/Amazon-PowerFast-Adapter...</td>\n",
              "      <td>Love my Kindle Fire but I am really disappoint...</td>\n",
              "      <td>Disappointing Charger</td>\n",
              "      <td>NaN</td>\n",
              "      <td>NaN</td>\n",
              "      <td>J Lawson</td>\n",
              "    </tr>\n",
              "    <tr>\n",
              "      <th>34658</th>\n",
              "      <td>AVpfiBlyLJeJML43-4Tp</td>\n",
              "      <td>NaN</td>\n",
              "      <td>B006GWO5WK</td>\n",
              "      <td>Amazon</td>\n",
              "      <td>Computers/Tablets &amp; Networking,Tablet &amp; eBook ...</td>\n",
              "      <td>newamazonkindlefirehd9wpowerfastadaptercharger...</td>\n",
              "      <td>Amazon Digital Services, Inc</td>\n",
              "      <td>2012-10-31T00:00:00Z</td>\n",
              "      <td>NaN</td>\n",
              "      <td>2015-09-01T00:00:00Z</td>\n",
              "      <td>NaN</td>\n",
              "      <td>NaN</td>\n",
              "      <td>NaN</td>\n",
              "      <td>NaN</td>\n",
              "      <td>1.0</td>\n",
              "      <td>http://www.amazon.com/Amazon-PowerFast-Adapter...</td>\n",
              "      <td>I was surprised to find it did not come with a...</td>\n",
              "      <td>Not worth the money</td>\n",
              "      <td>NaN</td>\n",
              "      <td>NaN</td>\n",
              "      <td>Just the Buyer</td>\n",
              "    </tr>\n",
              "    <tr>\n",
              "      <th>34659</th>\n",
              "      <td>AVpfiBlyLJeJML43-4Tp</td>\n",
              "      <td>NaN</td>\n",
              "      <td>B006GWO5WK</td>\n",
              "      <td>Amazon</td>\n",
              "      <td>Computers/Tablets &amp; Networking,Tablet &amp; eBook ...</td>\n",
              "      <td>newamazonkindlefirehd9wpowerfastadaptercharger...</td>\n",
              "      <td>Amazon Digital Services, Inc</td>\n",
              "      <td>2012-12-23T00:00:00Z</td>\n",
              "      <td>NaN</td>\n",
              "      <td>2015-11-01T00:00:00Z</td>\n",
              "      <td>NaN</td>\n",
              "      <td>NaN</td>\n",
              "      <td>NaN</td>\n",
              "      <td>NaN</td>\n",
              "      <td>1.0</td>\n",
              "      <td>http://www.amazon.com/Amazon-PowerFast-Adapter...</td>\n",
              "      <td>to spite the fact that i have nothing but good...</td>\n",
              "      <td>as with everyone else</td>\n",
              "      <td>NaN</td>\n",
              "      <td>NaN</td>\n",
              "      <td>sandi</td>\n",
              "    </tr>\n",
              "  </tbody>\n",
              "</table>\n",
              "<p>34660 rows × 21 columns</p>\n",
              "</div>"
            ],
            "text/plain": [
              "                         id  ...  reviews.username\n",
              "0      AVqkIhwDv8e3D1O-lebb  ...           Adapter\n",
              "1      AVqkIhwDv8e3D1O-lebb  ...            truman\n",
              "2      AVqkIhwDv8e3D1O-lebb  ...             DaveZ\n",
              "3      AVqkIhwDv8e3D1O-lebb  ...            Shacks\n",
              "4      AVqkIhwDv8e3D1O-lebb  ...         explore42\n",
              "...                     ...  ...               ...\n",
              "34655  AVpfiBlyLJeJML43-4Tp  ...              Kris\n",
              "34656  AVpfiBlyLJeJML43-4Tp  ...  Jonathan Stewart\n",
              "34657  AVpfiBlyLJeJML43-4Tp  ...          J Lawson\n",
              "34658  AVpfiBlyLJeJML43-4Tp  ...    Just the Buyer\n",
              "34659  AVpfiBlyLJeJML43-4Tp  ...             sandi\n",
              "\n",
              "[34660 rows x 21 columns]"
            ]
          },
          "metadata": {
            "tags": []
          },
          "execution_count": 3
        }
      ]
    },
    {
      "cell_type": "code",
      "metadata": {
        "id": "voze3IRC0_6E",
        "colab_type": "code",
        "outputId": "31f36cb9-3a22-4b73-ebad-72f8673fcb13",
        "colab": {
          "base_uri": "https://localhost:8080/",
          "height": 67
        }
      },
      "source": [
        "data['manufacturer'].value_counts()"
      ],
      "execution_count": 4,
      "outputs": [
        {
          "output_type": "execute_result",
          "data": {
            "text/plain": [
              "Amazon                          34639\n",
              "Amazon Digital Services, Inc       21\n",
              "Name: manufacturer, dtype: int64"
            ]
          },
          "metadata": {
            "tags": []
          },
          "execution_count": 4
        }
      ]
    },
    {
      "cell_type": "markdown",
      "metadata": {
        "id": "ZEw4fS7zEHGN",
        "colab_type": "text"
      },
      "source": [
        "**Check for missing values in the dataset**"
      ]
    },
    {
      "cell_type": "code",
      "metadata": {
        "id": "zAA8kRDNsDgy",
        "colab_type": "code",
        "outputId": "c24b2272-c23d-4250-889f-e2a2d08b0934",
        "colab": {
          "base_uri": "https://localhost:8080/",
          "height": 385
        }
      },
      "source": [
        "data.isnull().sum()"
      ],
      "execution_count": 5,
      "outputs": [
        {
          "output_type": "execute_result",
          "data": {
            "text/plain": [
              "id                          0\n",
              "name                     6760\n",
              "asins                       2\n",
              "brand                       0\n",
              "categories                  0\n",
              "keys                        0\n",
              "manufacturer                0\n",
              "reviews.date               39\n",
              "reviews.dateAdded       10621\n",
              "reviews.dateSeen            0\n",
              "reviews.didPurchase     34659\n",
              "reviews.doRecommend       594\n",
              "reviews.id              34659\n",
              "reviews.numHelpful        529\n",
              "reviews.rating             33\n",
              "reviews.sourceURLs          0\n",
              "reviews.text                1\n",
              "reviews.title               5\n",
              "reviews.userCity        34660\n",
              "reviews.userProvince    34660\n",
              "reviews.username            2\n",
              "dtype: int64"
            ]
          },
          "metadata": {
            "tags": []
          },
          "execution_count": 5
        }
      ]
    },
    {
      "cell_type": "markdown",
      "metadata": {
        "id": "JTCnOzOiERkE",
        "colab_type": "text"
      },
      "source": [
        "**Take reviews.text and reviews.rating as a seperate dataframe as we will deal with only those two features in the project**"
      ]
    },
    {
      "cell_type": "code",
      "metadata": {
        "id": "tvYcmoANsPS1",
        "colab_type": "code",
        "colab": {}
      },
      "source": [
        "df = data[['reviews.text','reviews.rating']]"
      ],
      "execution_count": 0,
      "outputs": []
    },
    {
      "cell_type": "code",
      "metadata": {
        "id": "FzLrE9Mfsv5b",
        "colab_type": "code",
        "outputId": "9ac5727d-9e89-417e-c32a-4b3057a71b8a",
        "colab": {
          "base_uri": "https://localhost:8080/",
          "height": 404
        }
      },
      "source": [
        "df"
      ],
      "execution_count": 7,
      "outputs": [
        {
          "output_type": "execute_result",
          "data": {
            "text/html": [
              "<div>\n",
              "<style scoped>\n",
              "    .dataframe tbody tr th:only-of-type {\n",
              "        vertical-align: middle;\n",
              "    }\n",
              "\n",
              "    .dataframe tbody tr th {\n",
              "        vertical-align: top;\n",
              "    }\n",
              "\n",
              "    .dataframe thead th {\n",
              "        text-align: right;\n",
              "    }\n",
              "</style>\n",
              "<table border=\"1\" class=\"dataframe\">\n",
              "  <thead>\n",
              "    <tr style=\"text-align: right;\">\n",
              "      <th></th>\n",
              "      <th>reviews.text</th>\n",
              "      <th>reviews.rating</th>\n",
              "    </tr>\n",
              "  </thead>\n",
              "  <tbody>\n",
              "    <tr>\n",
              "      <th>0</th>\n",
              "      <td>This product so far has not disappointed. My c...</td>\n",
              "      <td>5.0</td>\n",
              "    </tr>\n",
              "    <tr>\n",
              "      <th>1</th>\n",
              "      <td>great for beginner or experienced person. Boug...</td>\n",
              "      <td>5.0</td>\n",
              "    </tr>\n",
              "    <tr>\n",
              "      <th>2</th>\n",
              "      <td>Inexpensive tablet for him to use and learn on...</td>\n",
              "      <td>5.0</td>\n",
              "    </tr>\n",
              "    <tr>\n",
              "      <th>3</th>\n",
              "      <td>I've had my Fire HD 8 two weeks now and I love...</td>\n",
              "      <td>4.0</td>\n",
              "    </tr>\n",
              "    <tr>\n",
              "      <th>4</th>\n",
              "      <td>I bought this for my grand daughter when she c...</td>\n",
              "      <td>5.0</td>\n",
              "    </tr>\n",
              "    <tr>\n",
              "      <th>...</th>\n",
              "      <td>...</td>\n",
              "      <td>...</td>\n",
              "    </tr>\n",
              "    <tr>\n",
              "      <th>34655</th>\n",
              "      <td>This is not appreciably faster than any other ...</td>\n",
              "      <td>3.0</td>\n",
              "    </tr>\n",
              "    <tr>\n",
              "      <th>34656</th>\n",
              "      <td>Amazon should include this charger with the Ki...</td>\n",
              "      <td>1.0</td>\n",
              "    </tr>\n",
              "    <tr>\n",
              "      <th>34657</th>\n",
              "      <td>Love my Kindle Fire but I am really disappoint...</td>\n",
              "      <td>1.0</td>\n",
              "    </tr>\n",
              "    <tr>\n",
              "      <th>34658</th>\n",
              "      <td>I was surprised to find it did not come with a...</td>\n",
              "      <td>1.0</td>\n",
              "    </tr>\n",
              "    <tr>\n",
              "      <th>34659</th>\n",
              "      <td>to spite the fact that i have nothing but good...</td>\n",
              "      <td>1.0</td>\n",
              "    </tr>\n",
              "  </tbody>\n",
              "</table>\n",
              "<p>34660 rows × 2 columns</p>\n",
              "</div>"
            ],
            "text/plain": [
              "                                            reviews.text  reviews.rating\n",
              "0      This product so far has not disappointed. My c...             5.0\n",
              "1      great for beginner or experienced person. Boug...             5.0\n",
              "2      Inexpensive tablet for him to use and learn on...             5.0\n",
              "3      I've had my Fire HD 8 two weeks now and I love...             4.0\n",
              "4      I bought this for my grand daughter when she c...             5.0\n",
              "...                                                  ...             ...\n",
              "34655  This is not appreciably faster than any other ...             3.0\n",
              "34656  Amazon should include this charger with the Ki...             1.0\n",
              "34657  Love my Kindle Fire but I am really disappoint...             1.0\n",
              "34658  I was surprised to find it did not come with a...             1.0\n",
              "34659  to spite the fact that i have nothing but good...             1.0\n",
              "\n",
              "[34660 rows x 2 columns]"
            ]
          },
          "metadata": {
            "tags": []
          },
          "execution_count": 7
        }
      ]
    },
    {
      "cell_type": "code",
      "metadata": {
        "id": "ktZkGibutiJB",
        "colab_type": "code",
        "outputId": "b81c3e1f-ec66-4fcb-9ca2-f3edc9c1e9c6",
        "colab": {
          "base_uri": "https://localhost:8080/",
          "height": 33
        }
      },
      "source": [
        "df.shape"
      ],
      "execution_count": 8,
      "outputs": [
        {
          "output_type": "execute_result",
          "data": {
            "text/plain": [
              "(34660, 2)"
            ]
          },
          "metadata": {
            "tags": []
          },
          "execution_count": 8
        }
      ]
    },
    {
      "cell_type": "code",
      "metadata": {
        "id": "_NaQxxaBzcqO",
        "colab_type": "code",
        "outputId": "48961539-88c9-484f-82f8-3291fc9ba124",
        "colab": {
          "base_uri": "https://localhost:8080/",
          "height": 67
        }
      },
      "source": [
        "df.isnull().sum()"
      ],
      "execution_count": 9,
      "outputs": [
        {
          "output_type": "execute_result",
          "data": {
            "text/plain": [
              "reviews.text       1\n",
              "reviews.rating    33\n",
              "dtype: int64"
            ]
          },
          "metadata": {
            "tags": []
          },
          "execution_count": 9
        }
      ]
    },
    {
      "cell_type": "code",
      "metadata": {
        "id": "Q_kGs7-66XTB",
        "colab_type": "code",
        "outputId": "8793d2bf-e96d-4ea6-b7c0-e46068169cb8",
        "colab": {
          "base_uri": "https://localhost:8080/",
          "height": 77
        }
      },
      "source": [
        "df[df['reviews.text'].isnull()] #reviews.text which has nan value"
      ],
      "execution_count": 10,
      "outputs": [
        {
          "output_type": "execute_result",
          "data": {
            "text/html": [
              "<div>\n",
              "<style scoped>\n",
              "    .dataframe tbody tr th:only-of-type {\n",
              "        vertical-align: middle;\n",
              "    }\n",
              "\n",
              "    .dataframe tbody tr th {\n",
              "        vertical-align: top;\n",
              "    }\n",
              "\n",
              "    .dataframe thead th {\n",
              "        text-align: right;\n",
              "    }\n",
              "</style>\n",
              "<table border=\"1\" class=\"dataframe\">\n",
              "  <thead>\n",
              "    <tr style=\"text-align: right;\">\n",
              "      <th></th>\n",
              "      <th>reviews.text</th>\n",
              "      <th>reviews.rating</th>\n",
              "    </tr>\n",
              "  </thead>\n",
              "  <tbody>\n",
              "    <tr>\n",
              "      <th>3111</th>\n",
              "      <td>NaN</td>\n",
              "      <td>5.0</td>\n",
              "    </tr>\n",
              "  </tbody>\n",
              "</table>\n",
              "</div>"
            ],
            "text/plain": [
              "     reviews.text  reviews.rating\n",
              "3111          NaN             5.0"
            ]
          },
          "metadata": {
            "tags": []
          },
          "execution_count": 10
        }
      ]
    },
    {
      "cell_type": "code",
      "metadata": {
        "id": "8ACXHsOC74if",
        "colab_type": "code",
        "colab": {}
      },
      "source": [
        "df1=df.drop(df.index[3111]) #drop that row"
      ],
      "execution_count": 0,
      "outputs": []
    },
    {
      "cell_type": "code",
      "metadata": {
        "id": "xifSKfHm3Fo4",
        "colab_type": "code",
        "outputId": "0bebf4d8-9f11-4c9e-9ba2-75ab8e6b9b82",
        "colab": {
          "base_uri": "https://localhost:8080/",
          "height": 404
        }
      },
      "source": [
        "df1"
      ],
      "execution_count": 12,
      "outputs": [
        {
          "output_type": "execute_result",
          "data": {
            "text/html": [
              "<div>\n",
              "<style scoped>\n",
              "    .dataframe tbody tr th:only-of-type {\n",
              "        vertical-align: middle;\n",
              "    }\n",
              "\n",
              "    .dataframe tbody tr th {\n",
              "        vertical-align: top;\n",
              "    }\n",
              "\n",
              "    .dataframe thead th {\n",
              "        text-align: right;\n",
              "    }\n",
              "</style>\n",
              "<table border=\"1\" class=\"dataframe\">\n",
              "  <thead>\n",
              "    <tr style=\"text-align: right;\">\n",
              "      <th></th>\n",
              "      <th>reviews.text</th>\n",
              "      <th>reviews.rating</th>\n",
              "    </tr>\n",
              "  </thead>\n",
              "  <tbody>\n",
              "    <tr>\n",
              "      <th>0</th>\n",
              "      <td>This product so far has not disappointed. My c...</td>\n",
              "      <td>5.0</td>\n",
              "    </tr>\n",
              "    <tr>\n",
              "      <th>1</th>\n",
              "      <td>great for beginner or experienced person. Boug...</td>\n",
              "      <td>5.0</td>\n",
              "    </tr>\n",
              "    <tr>\n",
              "      <th>2</th>\n",
              "      <td>Inexpensive tablet for him to use and learn on...</td>\n",
              "      <td>5.0</td>\n",
              "    </tr>\n",
              "    <tr>\n",
              "      <th>3</th>\n",
              "      <td>I've had my Fire HD 8 two weeks now and I love...</td>\n",
              "      <td>4.0</td>\n",
              "    </tr>\n",
              "    <tr>\n",
              "      <th>4</th>\n",
              "      <td>I bought this for my grand daughter when she c...</td>\n",
              "      <td>5.0</td>\n",
              "    </tr>\n",
              "    <tr>\n",
              "      <th>...</th>\n",
              "      <td>...</td>\n",
              "      <td>...</td>\n",
              "    </tr>\n",
              "    <tr>\n",
              "      <th>34655</th>\n",
              "      <td>This is not appreciably faster than any other ...</td>\n",
              "      <td>3.0</td>\n",
              "    </tr>\n",
              "    <tr>\n",
              "      <th>34656</th>\n",
              "      <td>Amazon should include this charger with the Ki...</td>\n",
              "      <td>1.0</td>\n",
              "    </tr>\n",
              "    <tr>\n",
              "      <th>34657</th>\n",
              "      <td>Love my Kindle Fire but I am really disappoint...</td>\n",
              "      <td>1.0</td>\n",
              "    </tr>\n",
              "    <tr>\n",
              "      <th>34658</th>\n",
              "      <td>I was surprised to find it did not come with a...</td>\n",
              "      <td>1.0</td>\n",
              "    </tr>\n",
              "    <tr>\n",
              "      <th>34659</th>\n",
              "      <td>to spite the fact that i have nothing but good...</td>\n",
              "      <td>1.0</td>\n",
              "    </tr>\n",
              "  </tbody>\n",
              "</table>\n",
              "<p>34659 rows × 2 columns</p>\n",
              "</div>"
            ],
            "text/plain": [
              "                                            reviews.text  reviews.rating\n",
              "0      This product so far has not disappointed. My c...             5.0\n",
              "1      great for beginner or experienced person. Boug...             5.0\n",
              "2      Inexpensive tablet for him to use and learn on...             5.0\n",
              "3      I've had my Fire HD 8 two weeks now and I love...             4.0\n",
              "4      I bought this for my grand daughter when she c...             5.0\n",
              "...                                                  ...             ...\n",
              "34655  This is not appreciably faster than any other ...             3.0\n",
              "34656  Amazon should include this charger with the Ki...             1.0\n",
              "34657  Love my Kindle Fire but I am really disappoint...             1.0\n",
              "34658  I was surprised to find it did not come with a...             1.0\n",
              "34659  to spite the fact that i have nothing but good...             1.0\n",
              "\n",
              "[34659 rows x 2 columns]"
            ]
          },
          "metadata": {
            "tags": []
          },
          "execution_count": 12
        }
      ]
    },
    {
      "cell_type": "code",
      "metadata": {
        "id": "_uAUzUol6y_O",
        "colab_type": "code",
        "outputId": "a9fb1fb2-2e20-4fe2-ed22-c6e7303cd559",
        "colab": {
          "base_uri": "https://localhost:8080/",
          "height": 1000
        }
      },
      "source": [
        "df[df['reviews.rating'].isnull()] # reviews.rating which has nan values"
      ],
      "execution_count": 13,
      "outputs": [
        {
          "output_type": "execute_result",
          "data": {
            "text/html": [
              "<div>\n",
              "<style scoped>\n",
              "    .dataframe tbody tr th:only-of-type {\n",
              "        vertical-align: middle;\n",
              "    }\n",
              "\n",
              "    .dataframe tbody tr th {\n",
              "        vertical-align: top;\n",
              "    }\n",
              "\n",
              "    .dataframe thead th {\n",
              "        text-align: right;\n",
              "    }\n",
              "</style>\n",
              "<table border=\"1\" class=\"dataframe\">\n",
              "  <thead>\n",
              "    <tr style=\"text-align: right;\">\n",
              "      <th></th>\n",
              "      <th>reviews.text</th>\n",
              "      <th>reviews.rating</th>\n",
              "    </tr>\n",
              "  </thead>\n",
              "  <tbody>\n",
              "    <tr>\n",
              "      <th>2886</th>\n",
              "      <td>The Kindle is my first e-ink reader. I own an ...</td>\n",
              "      <td>NaN</td>\n",
              "    </tr>\n",
              "    <tr>\n",
              "      <th>2887</th>\n",
              "      <td>I'm a first-time Kindle owner, so I have nothi...</td>\n",
              "      <td>NaN</td>\n",
              "    </tr>\n",
              "    <tr>\n",
              "      <th>2888</th>\n",
              "      <td>UPDATE NOVEMBER 2011:My review is now over a y...</td>\n",
              "      <td>NaN</td>\n",
              "    </tr>\n",
              "    <tr>\n",
              "      <th>2889</th>\n",
              "      <td>I'm a first-time Kindle owner, so I have nothi...</td>\n",
              "      <td>NaN</td>\n",
              "    </tr>\n",
              "    <tr>\n",
              "      <th>2890</th>\n",
              "      <td>I woke up to a nice surprise this morning: a n...</td>\n",
              "      <td>NaN</td>\n",
              "    </tr>\n",
              "    <tr>\n",
              "      <th>2891</th>\n",
              "      <td>The Kindle is my first e-ink reader. I own an ...</td>\n",
              "      <td>NaN</td>\n",
              "    </tr>\n",
              "    <tr>\n",
              "      <th>2892</th>\n",
              "      <td>UPDATE NOVEMBER 2011:br /br /My review is now ...</td>\n",
              "      <td>NaN</td>\n",
              "    </tr>\n",
              "    <tr>\n",
              "      <th>2893</th>\n",
              "      <td>I woke up to a nice surprise this morning: a n...</td>\n",
              "      <td>NaN</td>\n",
              "    </tr>\n",
              "    <tr>\n",
              "      <th>2894</th>\n",
              "      <td>I use to hate to read but now that I have my K...</td>\n",
              "      <td>NaN</td>\n",
              "    </tr>\n",
              "    <tr>\n",
              "      <th>2895</th>\n",
              "      <td>All of them quit working. There's absolutely n...</td>\n",
              "      <td>NaN</td>\n",
              "    </tr>\n",
              "    <tr>\n",
              "      <th>2896</th>\n",
              "      <td>I recently ordered my 8th Kindle. It was to re...</td>\n",
              "      <td>NaN</td>\n",
              "    </tr>\n",
              "    <tr>\n",
              "      <th>2897</th>\n",
              "      <td>Great. Love it.</td>\n",
              "      <td>NaN</td>\n",
              "    </tr>\n",
              "    <tr>\n",
              "      <th>2898</th>\n",
              "      <td>I researched the purchase of a Kindle for a lo...</td>\n",
              "      <td>NaN</td>\n",
              "    </tr>\n",
              "    <tr>\n",
              "      <th>2899</th>\n",
              "      <td>This thing has captured my wife's heart. She r...</td>\n",
              "      <td>NaN</td>\n",
              "    </tr>\n",
              "    <tr>\n",
              "      <th>2900</th>\n",
              "      <td>I got my Kindle a few years ago and barely use...</td>\n",
              "      <td>NaN</td>\n",
              "    </tr>\n",
              "    <tr>\n",
              "      <th>2901</th>\n",
              "      <td>It was excellent for me in one moment when I w...</td>\n",
              "      <td>NaN</td>\n",
              "    </tr>\n",
              "    <tr>\n",
              "      <th>2902</th>\n",
              "      <td>Bought for my husband for Christmas and I have...</td>\n",
              "      <td>NaN</td>\n",
              "    </tr>\n",
              "    <tr>\n",
              "      <th>2903</th>\n",
              "      <td>It simply works even after 3.5 years of consta...</td>\n",
              "      <td>NaN</td>\n",
              "    </tr>\n",
              "    <tr>\n",
              "      <th>2904</th>\n",
              "      <td>I would highly recommend them to everyone. Got...</td>\n",
              "      <td>NaN</td>\n",
              "    </tr>\n",
              "    <tr>\n",
              "      <th>3691</th>\n",
              "      <td>UPDATE: I bought both a Fire HD and a Gen 2. (...</td>\n",
              "      <td>NaN</td>\n",
              "    </tr>\n",
              "    <tr>\n",
              "      <th>3692</th>\n",
              "      <td>I just received my kindle fire today. I had a ...</td>\n",
              "      <td>NaN</td>\n",
              "    </tr>\n",
              "    <tr>\n",
              "      <th>3693</th>\n",
              "      <td>I purchased the Kindle Fire ten months ago for...</td>\n",
              "      <td>NaN</td>\n",
              "    </tr>\n",
              "    <tr>\n",
              "      <th>3694</th>\n",
              "      <td>My 7 year old son has the 1st gen Kindle Fire,...</td>\n",
              "      <td>NaN</td>\n",
              "    </tr>\n",
              "    <tr>\n",
              "      <th>14727</th>\n",
              "      <td>Having received my Fire TV today, I've been tr...</td>\n",
              "      <td>NaN</td>\n",
              "    </tr>\n",
              "    <tr>\n",
              "      <th>14728</th>\n",
              "      <td>I'm your typical middle-aged woman - I don't g...</td>\n",
              "      <td>NaN</td>\n",
              "    </tr>\n",
              "    <tr>\n",
              "      <th>14729</th>\n",
              "      <td>An Amazon.com official commented on this revie...</td>\n",
              "      <td>NaN</td>\n",
              "    </tr>\n",
              "    <tr>\n",
              "      <th>14731</th>\n",
              "      <td>Having received my Fire TV today, I've been tr...</td>\n",
              "      <td>NaN</td>\n",
              "    </tr>\n",
              "    <tr>\n",
              "      <th>14732</th>\n",
              "      <td>I am not a casual user of on-demand content an...</td>\n",
              "      <td>NaN</td>\n",
              "    </tr>\n",
              "    <tr>\n",
              "      <th>21226</th>\n",
              "      <td>My previous kindle was a DX, this is my second...</td>\n",
              "      <td>NaN</td>\n",
              "    </tr>\n",
              "    <tr>\n",
              "      <th>21227</th>\n",
              "      <td>Just got mine right now. Looks the same as the...</td>\n",
              "      <td>NaN</td>\n",
              "    </tr>\n",
              "    <tr>\n",
              "      <th>21228</th>\n",
              "      <td>As reviewed by the wife This is the perfect th...</td>\n",
              "      <td>NaN</td>\n",
              "    </tr>\n",
              "    <tr>\n",
              "      <th>21229</th>\n",
              "      <td>My new Kindle Paperwhite came from the USA to ...</td>\n",
              "      <td>NaN</td>\n",
              "    </tr>\n",
              "    <tr>\n",
              "      <th>29572</th>\n",
              "      <td>This stuff tastes great. It does have sugar in...</td>\n",
              "      <td>NaN</td>\n",
              "    </tr>\n",
              "  </tbody>\n",
              "</table>\n",
              "</div>"
            ],
            "text/plain": [
              "                                            reviews.text  reviews.rating\n",
              "2886   The Kindle is my first e-ink reader. I own an ...             NaN\n",
              "2887   I'm a first-time Kindle owner, so I have nothi...             NaN\n",
              "2888   UPDATE NOVEMBER 2011:My review is now over a y...             NaN\n",
              "2889   I'm a first-time Kindle owner, so I have nothi...             NaN\n",
              "2890   I woke up to a nice surprise this morning: a n...             NaN\n",
              "2891   The Kindle is my first e-ink reader. I own an ...             NaN\n",
              "2892   UPDATE NOVEMBER 2011:br /br /My review is now ...             NaN\n",
              "2893   I woke up to a nice surprise this morning: a n...             NaN\n",
              "2894   I use to hate to read but now that I have my K...             NaN\n",
              "2895   All of them quit working. There's absolutely n...             NaN\n",
              "2896   I recently ordered my 8th Kindle. It was to re...             NaN\n",
              "2897                                     Great. Love it.             NaN\n",
              "2898   I researched the purchase of a Kindle for a lo...             NaN\n",
              "2899   This thing has captured my wife's heart. She r...             NaN\n",
              "2900   I got my Kindle a few years ago and barely use...             NaN\n",
              "2901   It was excellent for me in one moment when I w...             NaN\n",
              "2902   Bought for my husband for Christmas and I have...             NaN\n",
              "2903   It simply works even after 3.5 years of consta...             NaN\n",
              "2904   I would highly recommend them to everyone. Got...             NaN\n",
              "3691   UPDATE: I bought both a Fire HD and a Gen 2. (...             NaN\n",
              "3692   I just received my kindle fire today. I had a ...             NaN\n",
              "3693   I purchased the Kindle Fire ten months ago for...             NaN\n",
              "3694   My 7 year old son has the 1st gen Kindle Fire,...             NaN\n",
              "14727  Having received my Fire TV today, I've been tr...             NaN\n",
              "14728  I'm your typical middle-aged woman - I don't g...             NaN\n",
              "14729  An Amazon.com official commented on this revie...             NaN\n",
              "14731  Having received my Fire TV today, I've been tr...             NaN\n",
              "14732  I am not a casual user of on-demand content an...             NaN\n",
              "21226  My previous kindle was a DX, this is my second...             NaN\n",
              "21227  Just got mine right now. Looks the same as the...             NaN\n",
              "21228  As reviewed by the wife This is the perfect th...             NaN\n",
              "21229  My new Kindle Paperwhite came from the USA to ...             NaN\n",
              "29572  This stuff tastes great. It does have sugar in...             NaN"
            ]
          },
          "metadata": {
            "tags": []
          },
          "execution_count": 13
        }
      ]
    },
    {
      "cell_type": "code",
      "metadata": {
        "id": "QVE5q5kZ6CiR",
        "colab_type": "code",
        "outputId": "62d418bd-0fc0-4230-eb3d-80b6640279cd",
        "colab": {
          "base_uri": "https://localhost:8080/",
          "height": 67
        }
      },
      "source": [
        "df1.isnull().sum()"
      ],
      "execution_count": 14,
      "outputs": [
        {
          "output_type": "execute_result",
          "data": {
            "text/plain": [
              "reviews.text       0\n",
              "reviews.rating    33\n",
              "dtype: int64"
            ]
          },
          "metadata": {
            "tags": []
          },
          "execution_count": 14
        }
      ]
    },
    {
      "cell_type": "code",
      "metadata": {
        "id": "w9a24jwM3oBy",
        "colab_type": "code",
        "outputId": "97d12b42-7c49-4105-ec71-57d86dce5e53",
        "colab": {
          "base_uri": "https://localhost:8080/",
          "height": 33
        }
      },
      "source": [
        "df1['reviews.rating'].mean() "
      ],
      "execution_count": 15,
      "outputs": [
        {
          "output_type": "execute_result",
          "data": {
            "text/plain": [
              "4.584560734708023"
            ]
          },
          "metadata": {
            "tags": []
          },
          "execution_count": 15
        }
      ]
    },
    {
      "cell_type": "code",
      "metadata": {
        "id": "GGJrWLUr4LRy",
        "colab_type": "code",
        "colab": {}
      },
      "source": [
        "df2=df1.fillna(df1['reviews.rating'].mean()) #repalce nan values with the mean of it"
      ],
      "execution_count": 0,
      "outputs": []
    },
    {
      "cell_type": "code",
      "metadata": {
        "id": "A4AHK0SlwwmQ",
        "colab_type": "code",
        "outputId": "52985e05-14ea-4b19-ed83-13dfff6db45c",
        "colab": {
          "base_uri": "https://localhost:8080/",
          "height": 404
        }
      },
      "source": [
        "df2"
      ],
      "execution_count": 17,
      "outputs": [
        {
          "output_type": "execute_result",
          "data": {
            "text/html": [
              "<div>\n",
              "<style scoped>\n",
              "    .dataframe tbody tr th:only-of-type {\n",
              "        vertical-align: middle;\n",
              "    }\n",
              "\n",
              "    .dataframe tbody tr th {\n",
              "        vertical-align: top;\n",
              "    }\n",
              "\n",
              "    .dataframe thead th {\n",
              "        text-align: right;\n",
              "    }\n",
              "</style>\n",
              "<table border=\"1\" class=\"dataframe\">\n",
              "  <thead>\n",
              "    <tr style=\"text-align: right;\">\n",
              "      <th></th>\n",
              "      <th>reviews.text</th>\n",
              "      <th>reviews.rating</th>\n",
              "    </tr>\n",
              "  </thead>\n",
              "  <tbody>\n",
              "    <tr>\n",
              "      <th>0</th>\n",
              "      <td>This product so far has not disappointed. My c...</td>\n",
              "      <td>5.0</td>\n",
              "    </tr>\n",
              "    <tr>\n",
              "      <th>1</th>\n",
              "      <td>great for beginner or experienced person. Boug...</td>\n",
              "      <td>5.0</td>\n",
              "    </tr>\n",
              "    <tr>\n",
              "      <th>2</th>\n",
              "      <td>Inexpensive tablet for him to use and learn on...</td>\n",
              "      <td>5.0</td>\n",
              "    </tr>\n",
              "    <tr>\n",
              "      <th>3</th>\n",
              "      <td>I've had my Fire HD 8 two weeks now and I love...</td>\n",
              "      <td>4.0</td>\n",
              "    </tr>\n",
              "    <tr>\n",
              "      <th>4</th>\n",
              "      <td>I bought this for my grand daughter when she c...</td>\n",
              "      <td>5.0</td>\n",
              "    </tr>\n",
              "    <tr>\n",
              "      <th>...</th>\n",
              "      <td>...</td>\n",
              "      <td>...</td>\n",
              "    </tr>\n",
              "    <tr>\n",
              "      <th>34655</th>\n",
              "      <td>This is not appreciably faster than any other ...</td>\n",
              "      <td>3.0</td>\n",
              "    </tr>\n",
              "    <tr>\n",
              "      <th>34656</th>\n",
              "      <td>Amazon should include this charger with the Ki...</td>\n",
              "      <td>1.0</td>\n",
              "    </tr>\n",
              "    <tr>\n",
              "      <th>34657</th>\n",
              "      <td>Love my Kindle Fire but I am really disappoint...</td>\n",
              "      <td>1.0</td>\n",
              "    </tr>\n",
              "    <tr>\n",
              "      <th>34658</th>\n",
              "      <td>I was surprised to find it did not come with a...</td>\n",
              "      <td>1.0</td>\n",
              "    </tr>\n",
              "    <tr>\n",
              "      <th>34659</th>\n",
              "      <td>to spite the fact that i have nothing but good...</td>\n",
              "      <td>1.0</td>\n",
              "    </tr>\n",
              "  </tbody>\n",
              "</table>\n",
              "<p>34659 rows × 2 columns</p>\n",
              "</div>"
            ],
            "text/plain": [
              "                                            reviews.text  reviews.rating\n",
              "0      This product so far has not disappointed. My c...             5.0\n",
              "1      great for beginner or experienced person. Boug...             5.0\n",
              "2      Inexpensive tablet for him to use and learn on...             5.0\n",
              "3      I've had my Fire HD 8 two weeks now and I love...             4.0\n",
              "4      I bought this for my grand daughter when she c...             5.0\n",
              "...                                                  ...             ...\n",
              "34655  This is not appreciably faster than any other ...             3.0\n",
              "34656  Amazon should include this charger with the Ki...             1.0\n",
              "34657  Love my Kindle Fire but I am really disappoint...             1.0\n",
              "34658  I was surprised to find it did not come with a...             1.0\n",
              "34659  to spite the fact that i have nothing but good...             1.0\n",
              "\n",
              "[34659 rows x 2 columns]"
            ]
          },
          "metadata": {
            "tags": []
          },
          "execution_count": 17
        }
      ]
    },
    {
      "cell_type": "code",
      "metadata": {
        "id": "doHzxQsfqCT1",
        "colab_type": "code",
        "outputId": "7e6b3b4b-d277-46ba-8b7a-b7cfed6c49f6",
        "colab": {
          "base_uri": "https://localhost:8080/",
          "height": 67
        }
      },
      "source": [
        "df2.isnull().sum()"
      ],
      "execution_count": 18,
      "outputs": [
        {
          "output_type": "execute_result",
          "data": {
            "text/plain": [
              "reviews.text      0\n",
              "reviews.rating    0\n",
              "dtype: int64"
            ]
          },
          "metadata": {
            "tags": []
          },
          "execution_count": 18
        }
      ]
    },
    {
      "cell_type": "markdown",
      "metadata": {
        "id": "ZyhcO3mfzfvA",
        "colab_type": "text"
      },
      "source": [
        "**Distribution graph (bar graph) of reviews.rating:**"
      ]
    },
    {
      "cell_type": "code",
      "metadata": {
        "id": "Jt8-66Kax4kq",
        "colab_type": "code",
        "colab": {}
      },
      "source": [
        "def plotPerColumnDistribution(df, nGraphShown, nGraphPerRow):\n",
        "    nunique = df.nunique()\n",
        "    df = df[[col for col in df if nunique[col] > 1 and nunique[col] < 50]] # For displaying purposes, pick columns that have between 1 and 50 unique values\n",
        "    nRow, nCol = df.shape\n",
        "    columnNames = list(df)\n",
        "    nGraphRow = (nCol + nGraphPerRow - 1) / nGraphPerRow\n",
        "    plt.figure(num = None, figsize = (8 * nGraphPerRow, 10 * nGraphRow), dpi = 50, facecolor = 'w', edgecolor = 'k')\n",
        "    for i in range(min(nCol, nGraphShown)):\n",
        "        plt.subplot(nGraphRow, nGraphPerRow, i + 1)\n",
        "        columnDf = df.iloc[:, i]\n",
        "        if (not np.issubdtype(type(columnDf.iloc[0]), np.number)):\n",
        "            valueCounts = columnDf.value_counts()\n",
        "            valueCounts.plot.bar()\n",
        "        else:\n",
        "            columnDf.hist()\n",
        "        plt.ylabel('counts')\n",
        "        plt.xticks(rotation = 90)\n",
        "        plt.title(f'{columnNames[i]} (column {i})')\n",
        "    plt.tight_layout(pad = 1.0, w_pad = 1.0, h_pad = 1.0)\n",
        "    plt.show()"
      ],
      "execution_count": 0,
      "outputs": []
    },
    {
      "cell_type": "code",
      "metadata": {
        "id": "8qiFXaRqx-yk",
        "colab_type": "code",
        "outputId": "04eeecc4-29e0-4fdd-e85d-6a814aa71710",
        "colab": {
          "base_uri": "https://localhost:8080/",
          "height": 513
        }
      },
      "source": [
        "plotPerColumnDistribution(df, 10, 5)"
      ],
      "execution_count": 0,
      "outputs": [
        {
          "output_type": "display_data",
          "data": {
            "image/png": "[encoded data removed]",
            "text/plain": [
              "<Figure size 2000x500 with 1 Axes>"
            ]
          },
          "metadata": {
            "tags": []
          }
        }
      ]
    },
    {
      "cell_type": "markdown",
      "metadata": {
        "id": "rum7N--bAVYl",
        "colab_type": "text"
      },
      "source": [
        "**Word Cloud for names**"
      ]
    },
    {
      "cell_type": "code",
      "metadata": {
        "id": "CMnyRpPo6OZS",
        "colab_type": "code",
        "outputId": "699a9061-acdb-4629-9d26-aafd5c2f0374",
        "colab": {
          "base_uri": "https://localhost:8080/",
          "height": 465
        }
      },
      "source": [
        "#word cloud\n",
        "from wordcloud import WordCloud, ImageColorGenerator\n",
        "text = \" \".join(str(each) for each in data.name)\n",
        "# Create and generate a word cloud image:\n",
        "wordcloud = WordCloud(max_words=200, background_color=\"black\").generate(text)\n",
        "plt.figure(figsize=(10,6))\n",
        "plt.figure(figsize=(15,10))\n",
        "# Display the generated image:\n",
        "plt.imshow(wordcloud, interpolation='Bilinear')\n",
        "plt.axis(\"off\")\n",
        "plt.figure(1,figsize=(12, 12))\n",
        "plt.show()"
      ],
      "execution_count": 0,
      "outputs": [
        {
          "output_type": "display_data",
          "data": {
            "text/plain": [
              "<Figure size 720x432 with 0 Axes>"
            ]
          },
          "metadata": {
            "tags": []
          }
        },
        {
          "output_type": "display_data",
          "data": {
            "image/png": "[encoded data removed]",
            "text/plain": [
              "<Figure size 1080x720 with 1 Axes>"
            ]
          },
          "metadata": {
            "tags": [],
            "needs_background": "light"
          }
        }
      ]
    },
    {
      "cell_type": "markdown",
      "metadata": {
        "id": "Cqm-GBRC-5zb",
        "colab_type": "text"
      },
      "source": [
        "**The variations in reviews rating based on 'id'(Product id)**"
      ]
    },
    {
      "cell_type": "code",
      "metadata": {
        "id": "m0FLx8cB_W9f",
        "colab_type": "code",
        "colab": {}
      },
      "source": [
        "data1 = data.groupby(\"id\").mean().reset_index()"
      ],
      "execution_count": 0,
      "outputs": []
    },
    {
      "cell_type": "code",
      "metadata": {
        "id": "a9VEW1A4_Wy0",
        "colab_type": "code",
        "colab": {}
      },
      "source": [
        "data1 = data1.sort_values(['reviews.rating']).reset_index()"
      ],
      "execution_count": 0,
      "outputs": []
    },
    {
      "cell_type": "code",
      "metadata": {
        "id": "DZ23sb7i6OO4",
        "colab_type": "code",
        "outputId": "e7093dae-7a2e-492c-c1bf-8066510b5a87",
        "colab": {
          "base_uri": "https://localhost:8080/",
          "height": 730
        }
      },
      "source": [
        "plt.figure(figsize=(14,12))\n",
        "sns.barplot(x=data1[\"reviews.rating\"], y=data1[\"id\"])\n",
        "plt.title('Count ratings')\n",
        "plt.show()"
      ],
      "execution_count": 0,
      "outputs": [
        {
          "output_type": "display_data",
          "data": {
            "image/png": "[encoded data removed]",
            "text/plain": [
              "<Figure size 1008x864 with 1 Axes>"
            ]
          },
          "metadata": {
            "tags": [],
            "needs_background": "light"
          }
        }
      ]
    },
    {
      "cell_type": "markdown",
      "metadata": {
        "id": "tbrIBoxE99Tb",
        "colab_type": "text"
      },
      "source": [
        "## **Data Pre-processing and Using TFIDF**"
      ]
    },
    {
      "cell_type": "markdown",
      "metadata": {
        "id": "jkgJ5dgAGlSa",
        "colab_type": "text"
      },
      "source": [
        "**TFIDF Vectorizer**\n",
        "\n",
        "TFIDF is the abbreviation of Term Frequency and Inverse Document Frequency.\n",
        "\n",
        "Transforms text to feature vectors that can be used as input to estimator. vocabulary_ Is a dictionary that converts each token (word) to feature index in the matrix, each unique token gets a feature index. It tells you that the token 'me' is represented as feature number 8 in the output matrix."
      ]
    },
    {
      "cell_type": "markdown",
      "metadata": {
        "id": "Li_c-0qMGq5F",
        "colab_type": "text"
      },
      "source": [
        "**Tokenize and build vocab**"
      ]
    },
    {
      "cell_type": "code",
      "metadata": {
        "id": "xPxWjhc2w__A",
        "colab_type": "code",
        "outputId": "4f197ec9-4548-4906-ca0f-ecac711a54fc",
        "colab": {
          "base_uri": "https://localhost:8080/",
          "height": 134
        }
      },
      "source": [
        "tfidf = TfidfVectorizer()\n",
        "tfidf.fit(df2['reviews.text'].values)"
      ],
      "execution_count": 0,
      "outputs": [
        {
          "output_type": "execute_result",
          "data": {
            "text/plain": [
              "TfidfVectorizer(analyzer='word', binary=False, decode_error='strict',\n",
              "                dtype=<class 'numpy.float64'>, encoding='utf-8',\n",
              "                input='content', lowercase=True, max_df=1.0, max_features=None,\n",
              "                min_df=1, ngram_range=(1, 1), norm='l2', preprocessor=None,\n",
              "                smooth_idf=True, stop_words=None, strip_accents=None,\n",
              "                sublinear_tf=False, token_pattern='(?u)\\\\b\\\\w\\\\w+\\\\b',\n",
              "                tokenizer=None, use_idf=True, vocabulary=None)"
            ]
          },
          "metadata": {
            "tags": []
          },
          "execution_count": 129
        }
      ]
    },
    {
      "cell_type": "markdown",
      "metadata": {
        "id": "X5rNTmLZG0JG",
        "colab_type": "text"
      },
      "source": [
        "**Initialize target**"
      ]
    },
    {
      "cell_type": "code",
      "metadata": {
        "id": "ZxERpLtaxDJB",
        "colab_type": "code",
        "colab": {}
      },
      "source": [
        "target = np.array(df2['reviews.rating'],dtype='int')"
      ],
      "execution_count": 0,
      "outputs": []
    },
    {
      "cell_type": "markdown",
      "metadata": {
        "id": "mKD8IShnG5VT",
        "colab_type": "text"
      },
      "source": [
        "**Encode Document**"
      ]
    },
    {
      "cell_type": "code",
      "metadata": {
        "id": "uz2Cqv09xGfZ",
        "colab_type": "code",
        "colab": {}
      },
      "source": [
        "vector = tfidf.transform(df2['reviews.text'].values)"
      ],
      "execution_count": 0,
      "outputs": []
    },
    {
      "cell_type": "code",
      "metadata": {
        "id": "ZUl8vbm8xJ7T",
        "colab_type": "code",
        "colab": {}
      },
      "source": [
        "vector = vector.toarray()"
      ],
      "execution_count": 0,
      "outputs": []
    },
    {
      "cell_type": "code",
      "metadata": {
        "id": "0aaEpoqFxNBl",
        "colab_type": "code",
        "outputId": "334276b3-d8ee-4da6-f87c-bcfc2bab62d7",
        "colab": {
          "base_uri": "https://localhost:8080/",
          "height": 33
        }
      },
      "source": [
        "vector.shape"
      ],
      "execution_count": 0,
      "outputs": [
        {
          "output_type": "execute_result",
          "data": {
            "text/plain": [
              "(34659, 13994)"
            ]
          },
          "metadata": {
            "tags": []
          },
          "execution_count": 134
        }
      ]
    },
    {
      "cell_type": "code",
      "metadata": {
        "id": "leAVVioDxRf7",
        "colab_type": "code",
        "colab": {}
      },
      "source": [
        "tsvd = TruncatedSVD(n_components=100)\n",
        "tsvd.fit(vector)\n",
        "scaled = tsvd.transform(vector)"
      ],
      "execution_count": 0,
      "outputs": []
    },
    {
      "cell_type": "code",
      "metadata": {
        "id": "SFFrihk8xUoG",
        "colab_type": "code",
        "outputId": "31bcb6e8-f6ff-4c15-d1ff-3356159a860b",
        "colab": {
          "base_uri": "https://localhost:8080/",
          "height": 33
        }
      },
      "source": [
        "print(scaled.shape)"
      ],
      "execution_count": 0,
      "outputs": [
        {
          "output_type": "stream",
          "text": [
            "(34659, 100)\n"
          ],
          "name": "stdout"
        }
      ]
    },
    {
      "cell_type": "markdown",
      "metadata": {
        "id": "R84uglsMHB5Z",
        "colab_type": "text"
      },
      "source": [
        "**Define the Sequential model**"
      ]
    },
    {
      "cell_type": "code",
      "metadata": {
        "id": "105GfQ6Sx3iq",
        "colab_type": "code",
        "colab": {}
      },
      "source": [
        "model = keras.models.Sequential([\n",
        "        keras.layers.Dense(40, input_shape=[100,], activation='relu'),\n",
        "        keras.layers.Dense(20, activation='relu'),\n",
        "        keras.layers.Dense(6, activation='softmax')\n",
        "]) "
      ],
      "execution_count": 0,
      "outputs": []
    },
    {
      "cell_type": "code",
      "metadata": {
        "id": "br7qJk4pyQq-",
        "colab_type": "code",
        "colab": {}
      },
      "source": [
        "model.compile(optimizer=keras.optimizers.Adam(0.001),\n",
        "              loss=keras.losses.sparse_categorical_crossentropy,\n",
        "              metrics=['accuracy'])"
      ],
      "execution_count": 0,
      "outputs": []
    },
    {
      "cell_type": "markdown",
      "metadata": {
        "id": "kFDCw_u7HG_r",
        "colab_type": "text"
      },
      "source": [
        "**Train the model**"
      ]
    },
    {
      "cell_type": "code",
      "metadata": {
        "id": "LTIku2gayUeJ",
        "colab_type": "code",
        "outputId": "a7b7a94f-c2d3-4d7c-f169-53331c3cd0cc",
        "colab": {
          "base_uri": "https://localhost:8080/",
          "height": 1000
        }
      },
      "source": [
        "model.fit(scaled, target, epochs=40,verbose=1, validation_split=0.1)"
      ],
      "execution_count": 0,
      "outputs": [
        {
          "output_type": "stream",
          "text": [
            "Epoch 1/40\n",
            "975/975 [==============================] - 2s 2ms/step - loss: 0.8358 - accuracy: 0.6836 - val_loss: 0.6374 - val_accuracy: 0.7773\n",
            "Epoch 2/40\n",
            "975/975 [==============================] - 2s 2ms/step - loss: 0.7430 - accuracy: 0.6958 - val_loss: 0.6299 - val_accuracy: 0.7796\n",
            "Epoch 3/40\n",
            "975/975 [==============================] - 2s 2ms/step - loss: 0.7356 - accuracy: 0.6988 - val_loss: 0.6302 - val_accuracy: 0.7804\n",
            "Epoch 4/40\n",
            "975/975 [==============================] - 1s 1ms/step - loss: 0.7298 - accuracy: 0.6995 - val_loss: 0.6166 - val_accuracy: 0.7810\n",
            "Epoch 5/40\n",
            "975/975 [==============================] - 1s 1ms/step - loss: 0.7243 - accuracy: 0.7005 - val_loss: 0.6191 - val_accuracy: 0.7799\n",
            "Epoch 6/40\n",
            "975/975 [==============================] - 1s 1ms/step - loss: 0.7188 - accuracy: 0.7018 - val_loss: 0.6186 - val_accuracy: 0.7816\n",
            "Epoch 7/40\n",
            "975/975 [==============================] - 1s 1ms/step - loss: 0.7130 - accuracy: 0.7040 - val_loss: 0.6234 - val_accuracy: 0.7790\n",
            "Epoch 8/40\n",
            "975/975 [==============================] - 1s 1ms/step - loss: 0.7086 - accuracy: 0.7057 - val_loss: 0.6132 - val_accuracy: 0.7839\n",
            "Epoch 9/40\n",
            "975/975 [==============================] - 1s 1ms/step - loss: 0.7038 - accuracy: 0.7082 - val_loss: 0.6147 - val_accuracy: 0.7813\n",
            "Epoch 10/40\n",
            "975/975 [==============================] - 1s 1ms/step - loss: 0.6991 - accuracy: 0.7094 - val_loss: 0.6143 - val_accuracy: 0.7833\n",
            "Epoch 11/40\n",
            "975/975 [==============================] - 1s 1ms/step - loss: 0.6957 - accuracy: 0.7101 - val_loss: 0.6267 - val_accuracy: 0.7773\n",
            "Epoch 12/40\n",
            "975/975 [==============================] - 1s 1ms/step - loss: 0.6919 - accuracy: 0.7121 - val_loss: 0.6238 - val_accuracy: 0.7761\n",
            "Epoch 13/40\n",
            "975/975 [==============================] - 1s 1ms/step - loss: 0.6891 - accuracy: 0.7140 - val_loss: 0.6185 - val_accuracy: 0.7767\n",
            "Epoch 14/40\n",
            "975/975 [==============================] - 1s 1ms/step - loss: 0.6859 - accuracy: 0.7143 - val_loss: 0.6250 - val_accuracy: 0.7750\n",
            "Epoch 15/40\n",
            "975/975 [==============================] - 1s 1ms/step - loss: 0.6829 - accuracy: 0.7162 - val_loss: 0.6288 - val_accuracy: 0.7744\n",
            "Epoch 16/40\n",
            "975/975 [==============================] - 1s 1ms/step - loss: 0.6806 - accuracy: 0.7184 - val_loss: 0.6285 - val_accuracy: 0.7726\n",
            "Epoch 17/40\n",
            "975/975 [==============================] - 1s 1ms/step - loss: 0.6776 - accuracy: 0.7189 - val_loss: 0.6258 - val_accuracy: 0.7747\n",
            "Epoch 18/40\n",
            "975/975 [==============================] - 1s 1ms/step - loss: 0.6750 - accuracy: 0.7183 - val_loss: 0.6355 - val_accuracy: 0.7680\n",
            "Epoch 19/40\n",
            "975/975 [==============================] - 1s 1ms/step - loss: 0.6728 - accuracy: 0.7190 - val_loss: 0.6292 - val_accuracy: 0.7738\n",
            "Epoch 20/40\n",
            "975/975 [==============================] - 1s 1ms/step - loss: 0.6706 - accuracy: 0.7192 - val_loss: 0.6341 - val_accuracy: 0.7718\n",
            "Epoch 21/40\n",
            "975/975 [==============================] - 1s 1ms/step - loss: 0.6686 - accuracy: 0.7208 - val_loss: 0.6351 - val_accuracy: 0.7695\n",
            "Epoch 22/40\n",
            "975/975 [==============================] - 1s 1ms/step - loss: 0.6665 - accuracy: 0.7211 - val_loss: 0.6517 - val_accuracy: 0.7559\n",
            "Epoch 23/40\n",
            "975/975 [==============================] - 1s 1ms/step - loss: 0.6639 - accuracy: 0.7221 - val_loss: 0.6332 - val_accuracy: 0.7698\n",
            "Epoch 24/40\n",
            "975/975 [==============================] - 1s 1ms/step - loss: 0.6618 - accuracy: 0.7231 - val_loss: 0.6355 - val_accuracy: 0.7663\n",
            "Epoch 25/40\n",
            "975/975 [==============================] - 1s 1ms/step - loss: 0.6600 - accuracy: 0.7233 - val_loss: 0.6330 - val_accuracy: 0.7755\n",
            "Epoch 26/40\n",
            "975/975 [==============================] - 1s 1ms/step - loss: 0.6574 - accuracy: 0.7252 - val_loss: 0.6407 - val_accuracy: 0.7654\n",
            "Epoch 27/40\n",
            "975/975 [==============================] - 1s 1ms/step - loss: 0.6559 - accuracy: 0.7246 - val_loss: 0.6391 - val_accuracy: 0.7669\n",
            "Epoch 28/40\n",
            "975/975 [==============================] - 1s 1ms/step - loss: 0.6540 - accuracy: 0.7267 - val_loss: 0.6348 - val_accuracy: 0.7732\n",
            "Epoch 29/40\n",
            "975/975 [==============================] - 1s 1ms/step - loss: 0.6520 - accuracy: 0.7278 - val_loss: 0.6369 - val_accuracy: 0.7706\n",
            "Epoch 30/40\n",
            "975/975 [==============================] - 1s 1ms/step - loss: 0.6499 - accuracy: 0.7269 - val_loss: 0.6419 - val_accuracy: 0.7628\n",
            "Epoch 31/40\n",
            "975/975 [==============================] - 1s 1ms/step - loss: 0.6477 - accuracy: 0.7281 - val_loss: 0.6463 - val_accuracy: 0.7600\n",
            "Epoch 32/40\n",
            "975/975 [==============================] - 1s 1ms/step - loss: 0.6466 - accuracy: 0.7289 - val_loss: 0.6441 - val_accuracy: 0.7617\n",
            "Epoch 33/40\n",
            "975/975 [==============================] - 1s 1ms/step - loss: 0.6443 - accuracy: 0.7302 - val_loss: 0.6415 - val_accuracy: 0.7677\n",
            "Epoch 34/40\n",
            "975/975 [==============================] - 1s 1ms/step - loss: 0.6430 - accuracy: 0.7314 - val_loss: 0.6586 - val_accuracy: 0.7562\n",
            "Epoch 35/40\n",
            "975/975 [==============================] - 1s 1ms/step - loss: 0.6414 - accuracy: 0.7318 - val_loss: 0.6447 - val_accuracy: 0.7628\n",
            "Epoch 36/40\n",
            "975/975 [==============================] - 1s 1ms/step - loss: 0.6398 - accuracy: 0.7322 - val_loss: 0.6469 - val_accuracy: 0.7631\n",
            "Epoch 37/40\n",
            "975/975 [==============================] - 1s 1ms/step - loss: 0.6383 - accuracy: 0.7339 - val_loss: 0.6471 - val_accuracy: 0.7631\n",
            "Epoch 38/40\n",
            "975/975 [==============================] - 1s 1ms/step - loss: 0.6369 - accuracy: 0.7350 - val_loss: 0.6559 - val_accuracy: 0.7559\n",
            "Epoch 39/40\n",
            "975/975 [==============================] - 1s 1ms/step - loss: 0.6355 - accuracy: 0.7338 - val_loss: 0.6573 - val_accuracy: 0.7533\n",
            "Epoch 40/40\n",
            "975/975 [==============================] - 1s 1ms/step - loss: 0.6344 - accuracy: 0.7338 - val_loss: 0.6458 - val_accuracy: 0.7660\n"
          ],
          "name": "stdout"
        },
        {
          "output_type": "execute_result",
          "data": {
            "text/plain": [
              "<tensorflow.python.keras.callbacks.History at 0x7f932f793160>"
            ]
          },
          "metadata": {
            "tags": []
          },
          "execution_count": 34
        }
      ]
    },
    {
      "cell_type": "markdown",
      "metadata": {
        "id": "0YPuPyl4HNyL",
        "colab_type": "text"
      },
      "source": [
        "**Accuracy graph**"
      ]
    },
    {
      "cell_type": "code",
      "metadata": {
        "id": "XySKc6TByaMz",
        "colab_type": "code",
        "outputId": "8f5d6809-df57-4be2-b920-ecc5e98150cb",
        "colab": {
          "base_uri": "https://localhost:8080/",
          "height": 298
        }
      },
      "source": [
        "plt.plot(model.history.epoch, model.history.history['loss'],'b',\n",
        "         model.history.epoch, model.history.history['val_loss'], 'g')"
      ],
      "execution_count": 0,
      "outputs": [
        {
          "output_type": "execute_result",
          "data": {
            "text/plain": [
              "[<matplotlib.lines.Line2D at 0x7f932af4ef98>,\n",
              " <matplotlib.lines.Line2D at 0x7f932af590f0>]"
            ]
          },
          "metadata": {
            "tags": []
          },
          "execution_count": 35
        },
        {
          "output_type": "display_data",
          "data": {
            "image/png": "[encoded data removed]",
            "text/plain": [
              "<Figure size 432x288 with 1 Axes>"
            ]
          },
          "metadata": {
            "tags": [],
            "needs_background": "light"
          }
        }
      ]
    },
    {
      "cell_type": "markdown",
      "metadata": {
        "id": "rjitGCdpD1R-",
        "colab_type": "text"
      },
      "source": [
        "## **Using** **word embeddings**"
      ]
    },
    {
      "cell_type": "markdown",
      "metadata": {
        "id": "xYXKCVDIHqaQ",
        "colab_type": "text"
      },
      "source": [
        "**In word embeddings words or phrases from the vocabulary are mapped to vectors of real numbers.**"
      ]
    },
    {
      "cell_type": "code",
      "metadata": {
        "id": "8022Pk9C61yy",
        "colab_type": "code",
        "colab": {}
      },
      "source": [
        "text = df2['reviews.text'].values"
      ],
      "execution_count": 0,
      "outputs": []
    },
    {
      "cell_type": "markdown",
      "metadata": {
        "id": "BJFW-Jr7Hvm_",
        "colab_type": "text"
      },
      "source": [
        "**Tokenize each sentence**"
      ]
    },
    {
      "cell_type": "code",
      "metadata": {
        "id": "__9ygZGbEL9b",
        "colab_type": "code",
        "outputId": "394172bd-af0e-4496-e74f-a51f9e85197b",
        "colab": {
          "base_uri": "https://localhost:8080/",
          "height": 468
        }
      },
      "source": [
        "text_arr = [row.split(' ') for row in text]\n",
        "text_arr[0]"
      ],
      "execution_count": 0,
      "outputs": [
        {
          "output_type": "execute_result",
          "data": {
            "text/plain": [
              "['This',\n",
              " 'product',\n",
              " 'so',\n",
              " 'far',\n",
              " 'has',\n",
              " 'not',\n",
              " 'disappointed.',\n",
              " 'My',\n",
              " 'children',\n",
              " 'love',\n",
              " 'to',\n",
              " 'use',\n",
              " 'it',\n",
              " 'and',\n",
              " 'I',\n",
              " 'like',\n",
              " 'the',\n",
              " 'ability',\n",
              " 'to',\n",
              " 'monitor',\n",
              " 'control',\n",
              " 'what',\n",
              " 'content',\n",
              " 'they',\n",
              " 'see',\n",
              " 'with',\n",
              " 'ease.']"
            ]
          },
          "metadata": {
            "tags": []
          },
          "execution_count": 83
        }
      ]
    },
    {
      "cell_type": "code",
      "metadata": {
        "id": "mxCz-Z5Zbfbm",
        "colab_type": "code",
        "outputId": "1c2be2b0-95c8-407b-b3cb-9f3875019166",
        "colab": {
          "base_uri": "https://localhost:8080/",
          "height": 33
        }
      },
      "source": [
        "len(text_arr)"
      ],
      "execution_count": 0,
      "outputs": [
        {
          "output_type": "execute_result",
          "data": {
            "text/plain": [
              "34659"
            ]
          },
          "metadata": {
            "tags": []
          },
          "execution_count": 13
        }
      ]
    },
    {
      "cell_type": "markdown",
      "metadata": {
        "id": "MNO1tDMpH37s",
        "colab_type": "text"
      },
      "source": [
        "**Function to clean token vector of symbols**"
      ]
    },
    {
      "cell_type": "code",
      "metadata": {
        "id": "bX0NVSaPEQMz",
        "colab_type": "code",
        "colab": {}
      },
      "source": [
        "def clean_word(word_list):\n",
        "  new = []\n",
        "  for i, word in enumerate(word_list):\n",
        "    word = word.replace('.', '')\n",
        "    word = word.replace(',', '')\n",
        "    word = word.replace(';', '')\n",
        "\n",
        "    word = word.lower()\n",
        "    if word.isalpha() or word.isdigit():\n",
        "      new.append(word)\n",
        "    \n",
        "  return new"
      ],
      "execution_count": 0,
      "outputs": []
    },
    {
      "cell_type": "markdown",
      "metadata": {
        "id": "e23tQiueIABf",
        "colab_type": "text"
      },
      "source": [
        "**Clean every token word and create vocabulary out of it**"
      ]
    },
    {
      "cell_type": "code",
      "metadata": {
        "id": "WLAqr89HEbmj",
        "colab_type": "code",
        "colab": {}
      },
      "source": [
        "vocab = []\n",
        "clean_text_array = []\n",
        "\n",
        "for row in text_arr:\n",
        "  clean_row = clean_word(row)\n",
        "  clean_text_array.append(clean_row)\n",
        "  vocab.extend(clean_row)"
      ],
      "execution_count": 0,
      "outputs": []
    },
    {
      "cell_type": "markdown",
      "metadata": {
        "id": "2VYU9qOWIK9S",
        "colab_type": "text"
      },
      "source": [
        "**making sure each word appears only once in the vocabulary**"
      ]
    },
    {
      "cell_type": "code",
      "metadata": {
        "id": "dMqRpKxfEfOs",
        "colab_type": "code",
        "colab": {}
      },
      "source": [
        "vocabulary = list(set(clean_word(vocab)))"
      ],
      "execution_count": 0,
      "outputs": []
    },
    {
      "cell_type": "code",
      "metadata": {
        "id": "h7tfdtJLEi26",
        "colab_type": "code",
        "colab": {}
      },
      "source": [
        "vocab= len(vocabulary)"
      ],
      "execution_count": 0,
      "outputs": []
    },
    {
      "cell_type": "code",
      "metadata": {
        "id": "-lxdsEKjpZkQ",
        "colab_type": "code",
        "outputId": "641c1966-2884-49c0-aa73-10a6f34ee7b7",
        "colab": {
          "base_uri": "https://localhost:8080/",
          "height": 33
        }
      },
      "source": [
        "vocab"
      ],
      "execution_count": 0,
      "outputs": [
        {
          "output_type": "execute_result",
          "data": {
            "text/plain": [
              "15913"
            ]
          },
          "metadata": {
            "tags": []
          },
          "execution_count": 18
        }
      ]
    },
    {
      "cell_type": "markdown",
      "metadata": {
        "id": "WC3opAAjIxoE",
        "colab_type": "text"
      },
      "source": [
        "**Create token vector using Label Encoder fit on entire vocabulary**"
      ]
    },
    {
      "cell_type": "code",
      "metadata": {
        "id": "kxJ-8-MIEqKV",
        "colab_type": "code",
        "colab": {}
      },
      "source": [
        "vectorizer = LabelEncoder()\n",
        "vectorizer.fit(vocabulary)\n",
        "\n",
        "token_vector = []\n",
        "\n",
        "# declare max_words to keep count of the longest sentence vectorized\n",
        "# we need this to pad every other vector to same length as longest vector\n",
        "max_words = 0 \n",
        "for row in clean_text_array:\n",
        "  encoded = vectorizer.transform(row).tolist()\n",
        "  size = len(encoded)\n",
        "  if size>max_words: max_words=size\n",
        "  token_vector.append(encoded)"
      ],
      "execution_count": 0,
      "outputs": []
    },
    {
      "cell_type": "code",
      "metadata": {
        "id": "eGRhMd_FFFp3",
        "colab_type": "code",
        "outputId": "31e30473-0c4d-4604-f298-e9c6e9be4275",
        "colab": {
          "base_uri": "https://localhost:8080/",
          "height": 33
        }
      },
      "source": [
        "vectorizer.classes_[1379]"
      ],
      "execution_count": 0,
      "outputs": [
        {
          "output_type": "execute_result",
          "data": {
            "text/plain": [
              "'backwards'"
            ]
          },
          "metadata": {
            "tags": []
          },
          "execution_count": 21
        }
      ]
    },
    {
      "cell_type": "code",
      "metadata": {
        "id": "TR5yEC3vFmUE",
        "colab_type": "code",
        "outputId": "3c57007f-9691-43b3-e6f7-c2242167f831",
        "colab": {
          "base_uri": "https://localhost:8080/",
          "height": 33
        }
      },
      "source": [
        "max_words"
      ],
      "execution_count": 0,
      "outputs": [
        {
          "output_type": "execute_result",
          "data": {
            "text/plain": [
              "1728"
            ]
          },
          "metadata": {
            "tags": []
          },
          "execution_count": 22
        }
      ]
    },
    {
      "cell_type": "markdown",
      "metadata": {
        "id": "cBodxShNI6f7",
        "colab_type": "text"
      },
      "source": [
        "**Pad every vector in token vector corpus to be as long as longest vector**"
      ]
    },
    {
      "cell_type": "code",
      "metadata": {
        "id": "OeYlfUQZFpXu",
        "colab_type": "code",
        "colab": {}
      },
      "source": [
        "padded = []\n",
        "for row in token_vector:\n",
        "  r = np.pad(row, (0, max_words-len(row)), 'constant')\n",
        "  padded.append(r)"
      ],
      "execution_count": 0,
      "outputs": []
    },
    {
      "cell_type": "markdown",
      "metadata": {
        "id": "kiqZhhrWI_mj",
        "colab_type": "text"
      },
      "source": [
        "**Convert it into numpy array, we'll call this the examples vector as it contains all the example to be trained on**"
      ]
    },
    {
      "cell_type": "code",
      "metadata": {
        "id": "KvKKxADlFtk-",
        "colab_type": "code",
        "colab": {}
      },
      "source": [
        "ex_vector = np.array(padded)"
      ],
      "execution_count": 0,
      "outputs": []
    },
    {
      "cell_type": "code",
      "metadata": {
        "id": "dcXKYjxY7GFZ",
        "colab_type": "code",
        "outputId": "1c3fd176-f182-4109-93e3-e74bc34c1126",
        "colab": {
          "base_uri": "https://localhost:8080/",
          "height": 134
        }
      },
      "source": [
        "ex_vector"
      ],
      "execution_count": 0,
      "outputs": [
        {
          "output_type": "execute_result",
          "data": {
            "text/plain": [
              "array([[14096., 10795., 12816., ...,     0.,     0.,     0.],\n",
              "       [ 6208.,  5515.,  1567., ...,     0.,     0.,     0.],\n",
              "       [ 7093., 13694.,  5515., ...,     0.,     0.,     0.],\n",
              "       ...,\n",
              "       [ 8338.,  9120.,  7755., ...,     0.,     0.,     0.],\n",
              "       [ 6860., 15313., 13598., ...,     0.,     0.,     0.],\n",
              "       [14272., 13058., 13985., ...,     0.,     0.,     0.]])"
            ]
          },
          "metadata": {
            "tags": []
          },
          "execution_count": 25
        }
      ]
    },
    {
      "cell_type": "markdown",
      "metadata": {
        "id": "W-JaY9OVJJTD",
        "colab_type": "text"
      },
      "source": [
        "**Split the data into train and test data**"
      ]
    },
    {
      "cell_type": "code",
      "metadata": {
        "id": "gbb8cvneF1Z-",
        "colab_type": "code",
        "colab": {}
      },
      "source": [
        "xtrain, xtest, ytrain, ytest = train_test_split(ex_vector,target, test_size=0.25)"
      ],
      "execution_count": 0,
      "outputs": []
    },
    {
      "cell_type": "code",
      "metadata": {
        "id": "B30gKvpRK0xy",
        "colab_type": "code",
        "outputId": "206e72a1-a3f8-40bc-93bb-eca4f54fe15e",
        "colab": {
          "base_uri": "https://localhost:8080/",
          "height": 33
        }
      },
      "source": [
        "len(xtrain)"
      ],
      "execution_count": 0,
      "outputs": [
        {
          "output_type": "execute_result",
          "data": {
            "text/plain": [
              "25994"
            ]
          },
          "metadata": {
            "tags": []
          },
          "execution_count": 277
        }
      ]
    },
    {
      "cell_type": "markdown",
      "metadata": {
        "id": "u0sU2u8rJPi-",
        "colab_type": "text"
      },
      "source": [
        "**Load and convert the numpy array into a Tensor and then transform that into a BatchDataset TF Object to load into the Embedding Layer to the Keras Model**"
      ]
    },
    {
      "cell_type": "code",
      "metadata": {
        "id": "RsKI-19yF5j5",
        "colab_type": "code",
        "colab": {}
      },
      "source": [
        "#create a tensor out of numpy array\n",
        "train_dataset = tf.data.Dataset.from_tensor_slices((xtrain,ytrain))\n",
        "test_dataset = tf.data.Dataset.from_tensor_slices((xtest,ytest))"
      ],
      "execution_count": 0,
      "outputs": []
    },
    {
      "cell_type": "code",
      "metadata": {
        "id": "mLaLBN2ZL_cs",
        "colab_type": "code",
        "colab": {}
      },
      "source": [
        "#Shuffle the data and create batches out of it\n",
        "BATCH_SIZE = 10\n",
        "SHUFFLE_BUFFER_SIZE = 100\n",
        "\n",
        "train_dataset = train_dataset.shuffle(SHUFFLE_BUFFER_SIZE).batch(BATCH_SIZE)\n",
        "test_dataset = test_dataset.batch(BATCH_SIZE)"
      ],
      "execution_count": 0,
      "outputs": []
    },
    {
      "cell_type": "markdown",
      "metadata": {
        "id": "21njrSzFJv5j",
        "colab_type": "text"
      },
      "source": [
        " **Creating the model**\n",
        "\n",
        "Define the embedding dimensions // features around which the model will learn based on correlation"
      ]
    },
    {
      "cell_type": "code",
      "metadata": {
        "id": "VVB8eYunGDB4",
        "colab_type": "code",
        "colab": {}
      },
      "source": [
        "embedding_dim=200\n",
        "\n",
        "# defining the sequential model with an Embedding layer\n",
        "# Add a Global Average Pooling 1D layer to flattent the matrix into vector\n",
        "model = keras.models.Sequential([\n",
        "  keras.layers.Embedding(15913, embedding_dim),\n",
        "  keras.layers.GlobalAveragePooling1D(),\n",
        "  keras.layers.Dense(42, activation='relu'),\n",
        "  keras.layers.Dense(6, activation='softmax')\n",
        "])\n"
      ],
      "execution_count": 0,
      "outputs": []
    },
    {
      "cell_type": "code",
      "metadata": {
        "id": "TQSrCKhkGTDg",
        "colab_type": "code",
        "colab": {}
      },
      "source": [
        "model.compile(optimizer=keras.optimizers.Adam(0.001),\n",
        "              loss=tf.keras.losses.sparse_categorical_crossentropy,\n",
        "              metrics=['accuracy'])"
      ],
      "execution_count": 0,
      "outputs": []
    },
    {
      "cell_type": "markdown",
      "metadata": {
        "id": "A4LRAyYzJ7HD",
        "colab_type": "text"
      },
      "source": [
        "**Train the model**"
      ]
    },
    {
      "cell_type": "code",
      "metadata": {
        "id": "Pl0EAKcvGcPU",
        "colab_type": "code",
        "outputId": "f4743840-3e7e-4190-9ec2-6e62af56b155",
        "colab": {
          "base_uri": "https://localhost:8080/",
          "height": 351
        }
      },
      "source": [
        "epochs=10\n",
        "history = model.fit(train_dataset, epochs=epochs, validation_data=test_dataset, verbose=2)"
      ],
      "execution_count": 0,
      "outputs": [
        {
          "output_type": "stream",
          "text": [
            "Epoch 1/10\n",
            "2600/2600 - 113s - loss: 0.8487 - accuracy: 0.6882 - val_loss: 0.8435 - val_accuracy: 0.6787\n",
            "Epoch 2/10\n",
            "2600/2600 - 112s - loss: 0.8079 - accuracy: 0.6896 - val_loss: 0.7888 - val_accuracy: 0.6879\n",
            "Epoch 3/10\n",
            "2600/2600 - 110s - loss: 0.7511 - accuracy: 0.7054 - val_loss: 0.7470 - val_accuracy: 0.7035\n",
            "Epoch 4/10\n",
            "2600/2600 - 110s - loss: 0.7202 - accuracy: 0.7144 - val_loss: 0.7284 - val_accuracy: 0.7055\n",
            "Epoch 5/10\n",
            "2600/2600 - 110s - loss: 0.7021 - accuracy: 0.7189 - val_loss: 0.7216 - val_accuracy: 0.7057\n",
            "Epoch 6/10\n",
            "2600/2600 - 111s - loss: 0.6818 - accuracy: 0.7237 - val_loss: 0.7130 - val_accuracy: 0.7096\n",
            "Epoch 7/10\n",
            "2600/2600 - 111s - loss: 0.6666 - accuracy: 0.7290 - val_loss: 0.7022 - val_accuracy: 0.7106\n",
            "Epoch 8/10\n",
            "2600/2600 - 112s - loss: 0.6541 - accuracy: 0.7337 - val_loss: 0.6952 - val_accuracy: 0.7119\n",
            "Epoch 9/10\n",
            "2600/2600 - 112s - loss: 0.6415 - accuracy: 0.7399 - val_loss: 0.6949 - val_accuracy: 0.7129\n",
            "Epoch 10/10\n",
            "2600/2600 - 110s - loss: 0.6319 - accuracy: 0.7417 - val_loss: 0.7438 - val_accuracy: 0.7100\n"
          ],
          "name": "stdout"
        }
      ]
    },
    {
      "cell_type": "markdown",
      "metadata": {
        "id": "to5FZKfrJ_Hi",
        "colab_type": "text"
      },
      "source": [
        "**Accuracy graph**"
      ]
    },
    {
      "cell_type": "code",
      "metadata": {
        "id": "Q5X2mVCFGkS_",
        "colab_type": "code",
        "outputId": "e7c39aec-a9c2-457d-d47b-026cd6978956",
        "colab": {
          "base_uri": "https://localhost:8080/",
          "height": 298
        }
      },
      "source": [
        "import matplotlib.pyplot as plt\n",
        "\n",
        "plt.plot(model.history.epoch, model.history.history['accuracy'],'b',\n",
        "         model.history.epoch, model.history.history['val_accuracy'], 'g')"
      ],
      "execution_count": 0,
      "outputs": [
        {
          "output_type": "execute_result",
          "data": {
            "text/plain": [
              "[<matplotlib.lines.Line2D at 0x7f9323813278>,\n",
              " <matplotlib.lines.Line2D at 0x7f93238133c8>]"
            ]
          },
          "metadata": {
            "tags": []
          },
          "execution_count": 141
        },
        {
          "output_type": "display_data",
          "data": {
            "image/png": "[encoded data removed]",
            "text/plain": [
              "<Figure size 432x288 with 1 Axes>"
            ]
          },
          "metadata": {
            "tags": [],
            "needs_background": "light"
          }
        }
      ]
    },
    {
      "cell_type": "markdown",
      "metadata": {
        "id": "xatA0wk49eKH",
        "colab_type": "text"
      },
      "source": [
        "## **Using LSTM/RNN**"
      ]
    },
    {
      "cell_type": "markdown",
      "metadata": {
        "id": "Yl7yeOC-KtH2",
        "colab_type": "text"
      },
      "source": [
        "RNN a recurrent neural network is a class of artificial neural network. Unlike feed-forward neural networks, recurrent neural networks have a backward connection between hidden layers. Therefore, they have some kind of memory in them."
      ]
    },
    {
      "cell_type": "markdown",
      "metadata": {
        "id": "yITYcFgcKyM_",
        "colab_type": "text"
      },
      "source": [
        "**Using Tokenizer to vectorize and convert text into Sequences**"
      ]
    },
    {
      "cell_type": "code",
      "metadata": {
        "id": "pw8aOrQ9aEGw",
        "colab_type": "code",
        "colab": {}
      },
      "source": [
        "t = Tokenizer()"
      ],
      "execution_count": 0,
      "outputs": []
    },
    {
      "cell_type": "code",
      "metadata": {
        "id": "YWaeZMcTaH19",
        "colab_type": "code",
        "colab": {}
      },
      "source": [
        "t.fit_on_texts(df2[\"reviews.text\"])"
      ],
      "execution_count": 0,
      "outputs": []
    },
    {
      "cell_type": "code",
      "metadata": {
        "id": "xkuWjomPa8sg",
        "colab_type": "code",
        "colab": {}
      },
      "source": [
        "max_length = max([len(s.split()) for s in df2[\"reviews.text\"] ])\n",
        "max_legth=max_length"
      ],
      "execution_count": 0,
      "outputs": []
    },
    {
      "cell_type": "code",
      "metadata": {
        "id": "5k6vOsJ3S6Pp",
        "colab_type": "code",
        "outputId": "d3b914a6-6676-452a-b317-9dea7d864393",
        "colab": {
          "base_uri": "https://localhost:8080/",
          "height": 33
        }
      },
      "source": [
        "max_length"
      ],
      "execution_count": 37,
      "outputs": [
        {
          "output_type": "execute_result",
          "data": {
            "text/plain": [
              "1858"
            ]
          },
          "metadata": {
            "tags": []
          },
          "execution_count": 37
        }
      ]
    },
    {
      "cell_type": "code",
      "metadata": {
        "id": "eW9Vx7RhbrRz",
        "colab_type": "code",
        "colab": {}
      },
      "source": [
        "vocab_size = len(t.word_index)+1"
      ],
      "execution_count": 0,
      "outputs": []
    },
    {
      "cell_type": "code",
      "metadata": {
        "id": "2gtU7JUR_29d",
        "colab_type": "code",
        "outputId": "bbcb58cd-2071-4b2e-e7dd-dbe1c4ece075",
        "colab": {
          "base_uri": "https://localhost:8080/",
          "height": 33
        }
      },
      "source": [
        "vocab_size"
      ],
      "execution_count": 39,
      "outputs": [
        {
          "output_type": "execute_result",
          "data": {
            "text/plain": [
              "14549"
            ]
          },
          "metadata": {
            "tags": []
          },
          "execution_count": 39
        }
      ]
    },
    {
      "cell_type": "code",
      "metadata": {
        "id": "EnAmYSz2AU2C",
        "colab_type": "code",
        "colab": {}
      },
      "source": [
        "from sklearn.model_selection import train_test_split"
      ],
      "execution_count": 0,
      "outputs": []
    },
    {
      "cell_type": "code",
      "metadata": {
        "id": "OLin4NPlbvYf",
        "colab_type": "code",
        "colab": {}
      },
      "source": [
        "xtrain, xtest, ytrain, ytest = train_test_split(df2['reviews.text'], df2['reviews.rating'], test_size=0.25)"
      ],
      "execution_count": 0,
      "outputs": []
    },
    {
      "cell_type": "code",
      "metadata": {
        "id": "f2zIqd98b5He",
        "colab_type": "code",
        "colab": {}
      },
      "source": [
        "xtrain = t.texts_to_sequences(xtrain)\n",
        "xtest = t.texts_to_sequences(xtest)"
      ],
      "execution_count": 0,
      "outputs": []
    },
    {
      "cell_type": "code",
      "metadata": {
        "id": "JfMiL6OecDUO",
        "colab_type": "code",
        "colab": {}
      },
      "source": [
        "xtrain = pad_sequences(xtrain, maxlen=max_length, padding = \"post\",truncating = \"post\")\n",
        "xtest = pad_sequences(xtest, maxlen=max_length, padding = \"post\", truncating = \"post\")"
      ],
      "execution_count": 0,
      "outputs": []
    },
    {
      "cell_type": "code",
      "metadata": {
        "id": "2vINOJ_rcLkY",
        "colab_type": "code",
        "outputId": "0a0b8be7-b5a0-4b26-ecd6-23994e544e6c",
        "colab": {
          "base_uri": "https://localhost:8080/",
          "height": 33
        }
      },
      "source": [
        "xtrain = xtrain[0:28290]\n",
        "ytrain = ytrain[0:28290]\n",
        "xtest = xtest[0:9430]\n",
        "ytest = ytest[0:9430]\n",
        "len(ytest),len(xtest),len(xtrain),len(ytrain)"
      ],
      "execution_count": 54,
      "outputs": [
        {
          "output_type": "execute_result",
          "data": {
            "text/plain": [
              "(8665, 8665, 25994, 25994)"
            ]
          },
          "metadata": {
            "tags": []
          },
          "execution_count": 54
        }
      ]
    },
    {
      "cell_type": "code",
      "metadata": {
        "id": "hmqDG3jUcWXD",
        "colab_type": "code",
        "colab": {}
      },
      "source": [
        "#converting to categorical\n",
        "ytrain = np_utils.to_categorical(ytrain, num_classes=6)\n",
        "ytest = np_utils.to_categorical(ytest, num_classes=6)"
      ],
      "execution_count": 0,
      "outputs": []
    },
    {
      "cell_type": "markdown",
      "metadata": {
        "id": "43qUjjCgLJNj",
        "colab_type": "text"
      },
      "source": [
        "**Define the LSTM RNN Model**"
      ]
    },
    {
      "cell_type": "markdown",
      "metadata": {
        "id": "j_OIzcOKLKpb",
        "colab_type": "text"
      },
      "source": [
        "LSTM(Long short term memory) is used to remember past data in memory"
      ]
    },
    {
      "cell_type": "code",
      "metadata": {
        "id": "SUIGflhZcdp3",
        "colab_type": "code",
        "outputId": "b7f9e5cc-416f-4ed0-daa7-d26ae13c6cb9",
        "colab": {
          "base_uri": "https://localhost:8080/",
          "height": 187
        }
      },
      "source": [
        "embedding_dim = 200\n",
        "model = Sequential()\n",
        "model.add(Embedding(vocab_size, embedding_dim, input_length=max_length))\n",
        "model.add(LSTM(units = 32))\n",
        "model.add(Dense(6,activation=\"softmax\")) #since converted to categorical we will have three output nodes. softmax\n",
        "                                         # assigns a probability distribution\n",
        "    \n",
        "model.compile(loss=\"binary_crossentropy\", optimizer=\"adam\",metrics=[\"accuracy\"])\n",
        "batch_size = 150\n",
        "epochs  = 3\n",
        "history = model.fit(xtrain, ytrain, batch_size=batch_size, epochs=epochs, validation_data=(xtest,ytest),verbose=1)"
      ],
      "execution_count": 56,
      "outputs": [
        {
          "output_type": "stream",
          "text": [
            "/usr/local/lib/python3.6/dist-packages/tensorflow/python/framework/indexed_slices.py:434: UserWarning: Converting sparse IndexedSlices to a dense Tensor of unknown shape. This may consume a large amount of memory.\n",
            "  \"Converting sparse IndexedSlices to a dense Tensor of unknown shape. \"\n"
          ],
          "name": "stderr"
        },
        {
          "output_type": "stream",
          "text": [
            "Train on 25994 samples, validate on 8665 samples\n",
            "Epoch 1/3\n",
            "25994/25994 [==============================] - 633s 24ms/step - loss: 0.2646 - accuracy: 0.8898 - val_loss: 0.2464 - val_accuracy: 0.8968\n",
            "Epoch 2/3\n",
            "25994/25994 [==============================] - 637s 24ms/step - loss: 0.2491 - accuracy: 0.8948 - val_loss: 0.2461 - val_accuracy: 0.8968\n",
            "Epoch 3/3\n",
            "25994/25994 [==============================] - 633s 24ms/step - loss: 0.2488 - accuracy: 0.8948 - val_loss: 0.2463 - val_accuracy: 0.8968\n"
          ],
          "name": "stdout"
        }
      ]
    },
    {
      "cell_type": "markdown",
      "metadata": {
        "id": "j1aeAj55fKMh",
        "colab_type": "text"
      },
      "source": [
        "# **Conclusion**\n",
        "Using TFIDF the accuracy is 73.38%\n",
        "\n",
        "Using Word Embeddings its 74.17%\n",
        "\n",
        "And for RNN Model the accuracy is 89.53% which is most accurate among all others."
      ]
    }
  ]
}